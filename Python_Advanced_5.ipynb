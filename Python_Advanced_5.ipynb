{
  "nbformat": 4,
  "nbformat_minor": 0,
  "metadata": {
    "colab": {
      "provenance": []
    },
    "kernelspec": {
      "name": "python3",
      "display_name": "Python 3"
    },
    "language_info": {
      "name": "python"
    }
  },
  "cells": [
    {
      "cell_type": "markdown",
      "source": [
        "**Q1. What is the meaning of multiple inheritance?**"
      ],
      "metadata": {
        "id": "45xiwD7wljqQ"
      }
    },
    {
      "cell_type": "markdown",
      "source": [
        "Simply said, inheritance is when one class uses the functionality of another class as its own. Multiple Inheritance describes the situation where a child class obtains its characteristics from more than one parent class."
      ],
      "metadata": {
        "id": "Ml6AGVejtfGi"
      }
    },
    {
      "cell_type": "code",
      "execution_count": 8,
      "metadata": {
        "colab": {
          "base_uri": "https://localhost:8080/"
        },
        "id": "KUW1afJ_lYwv",
        "outputId": "a04b74b9-04e7-4aff-a93d-f6892927ead3"
      },
      "outputs": [
        {
          "output_type": "stream",
          "name": "stdout",
          "text": [
            "parent class-1\n",
            "parent class-2\n"
          ]
        }
      ],
      "source": [
        "class parent1:\n",
        "  def print(self):\n",
        "    print('parent class-1')\n",
        "\n",
        "class parent2:\n",
        "  def print(self):\n",
        "    print('parent class-2')\n",
        "\n",
        "class child(parent1,parent2):\n",
        "  def print(self):\n",
        "    parent1.print(obj)\n",
        "    parent2.print(obj)\n",
        "\n",
        "obj = child()\n",
        "obj.print()"
      ]
    },
    {
      "cell_type": "markdown",
      "source": [
        "**Q2. What is the concept of delegation?**"
      ],
      "metadata": {
        "id": "gJJqIzFtthYQ"
      }
    },
    {
      "cell_type": "markdown",
      "source": [
        "With delegation, you can create a proxy object that acts as a replacement for the original class. It acts as a layer between your class and the main one, allowing you to use only a subset of the main class's features. It transforms the primary class object into a more manageable subclass object.Delegation, in its simplest form, is the ability to pass along messages to an instance of another class that has been included as an instance variable."
      ],
      "metadata": {
        "id": "4asZS_QGux5j"
      }
    },
    {
      "cell_type": "code",
      "source": [
        "class parent:\n",
        "  def print(self):\n",
        "    print('This is a parent class')\n",
        "\n",
        "  def display(self):\n",
        "    print('This is parent class display method')\n",
        "\n",
        "class child(parent):\n",
        "  def __init__(self, object):\n",
        "    self.object = object\n",
        "\n",
        "  def print(self):\n",
        "    self.object.print()\n",
        "    self.object.display()\n",
        "\n",
        "parent_object = parent()\n",
        "child_object = child(parent_object)\n",
        "child_object.print()"
      ],
      "metadata": {
        "colab": {
          "base_uri": "https://localhost:8080/"
        },
        "id": "4yPPgT1DrYUM",
        "outputId": "4c46dade-0cb8-4f7f-ce37-ea3e9b0098e7"
      },
      "execution_count": 10,
      "outputs": [
        {
          "output_type": "stream",
          "name": "stdout",
          "text": [
            "This is a parent class\n",
            "This is parent class display method\n"
          ]
        }
      ]
    },
    {
      "cell_type": "markdown",
      "source": [
        "**Q3. What is the concept of composition?**"
      ],
      "metadata": {
        "id": "7RiPA0SLu0Sf"
      }
    },
    {
      "cell_type": "markdown",
      "source": [
        "An instance of one class can be used as a reference to another class in the context of the Composition concept. In this methodology, only the necessary methods from a class are used by utilising class instances, rather than all of the members of the parent class being inherited into the child class."
      ],
      "metadata": {
        "id": "uyaLrGXFweBI"
      }
    },
    {
      "cell_type": "code",
      "source": [
        "class grades:\n",
        "  def __init__(self, marks):\n",
        "    self.marks = marks\n",
        "\n",
        "  def calculate(self):\n",
        "    return self.marks/100*100\n",
        "\n",
        "class student:\n",
        "  def __init__(self, marks, grade):\n",
        "    self.marks = marks\n",
        "    self.grade = grade\n",
        "    self.object_percentage = grades(self.marks)\n",
        "\n",
        "  def total_percentage(self):\n",
        "    return 'Percentage is {}'.format(self.object_percentage.calculate())\n",
        "\n",
        "object_student = student(13,3)\n",
        "object_student.total_percentage()"
      ],
      "metadata": {
        "colab": {
          "base_uri": "https://localhost:8080/",
          "height": 35
        },
        "id": "vUXtO-kXuhUQ",
        "outputId": "211f0d99-95e9-4297-9ef0-77e73e91d1ba"
      },
      "execution_count": 11,
      "outputs": [
        {
          "output_type": "execute_result",
          "data": {
            "text/plain": [
              "'Percentage is 13.0'"
            ],
            "application/vnd.google.colaboratory.intrinsic+json": {
              "type": "string"
            }
          },
          "metadata": {},
          "execution_count": 11
        }
      ]
    },
    {
      "cell_type": "markdown",
      "source": [
        "**Q4. What are bound methods and how do we use them?**"
      ],
      "metadata": {
        "id": "8OtPja4xwgEw"
      }
    },
    {
      "cell_type": "markdown",
      "source": [
        "Bound methods are those that are associated with a class and accessed through its instances. If a method takes self as its first argument, it is said to be bound. These are also known as instance methods because they are class instance-specific."
      ],
      "metadata": {
        "id": "mSFi8eocx9WL"
      }
    },
    {
      "cell_type": "code",
      "source": [
        "class demo:\n",
        "  def display1(self):\n",
        "    print(\"Display1\")\n",
        "  \n",
        "  def display2(cls):\n",
        "    print(\"Display2\")\n",
        "   \n",
        "  def display3():\n",
        "    print(\"Display3\")\n",
        "\n",
        "object_demo = demo()\n",
        "object_demo.display1()\n",
        "object_demo.display2()\n",
        "demo.display3()\n"
      ],
      "metadata": {
        "colab": {
          "base_uri": "https://localhost:8080/"
        },
        "id": "vYArrsDIwVim",
        "outputId": "4e4bae3e-0b47-4426-d53b-d8bb2efba15f"
      },
      "execution_count": 18,
      "outputs": [
        {
          "output_type": "stream",
          "name": "stdout",
          "text": [
            "Display1\n",
            "Display2\n",
            "Display3\n"
          ]
        }
      ]
    },
    {
      "cell_type": "markdown",
      "source": [
        "Q5. What is the purpose of pseudoprivate attributes?"
      ],
      "metadata": {
        "id": "TMsnX2ZxyCHn"
      }
    },
    {
      "cell_type": "markdown",
      "source": [
        "To prevent internal methods from being substituted by names specified lower in the class tree and to prevent the introduction of new method names that might mistakenly obscure definitions elsewhere in the class tree, pseudoprivate attributes are especially useful in larger frameworks or tools. Using a double underscore before a method name assures that it won't conflict with other names in the inheritance tree, which is particularly important in the case of multiple inheritance.Also, using pseudoprivate names for internal methods protects against their unintentional redefinition by subclasses."
      ],
      "metadata": {
        "id": "xEM1-KUhyZ_x"
      }
    }
  ]
}