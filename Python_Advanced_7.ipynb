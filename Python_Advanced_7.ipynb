{
  "nbformat": 4,
  "nbformat_minor": 0,
  "metadata": {
    "colab": {
      "provenance": []
    },
    "kernelspec": {
      "name": "python3",
      "display_name": "Python 3"
    },
    "language_info": {
      "name": "python"
    }
  },
  "cells": [
    {
      "cell_type": "markdown",
      "source": [
        "**Q1. What is the purpose of the try statement?**"
      ],
      "metadata": {
        "id": "-eqpWeAO5-qr"
      }
    },
    {
      "cell_type": "markdown",
      "source": [
        "try statement is used as block which contains statements from where chances of exception might occur. Try block will create an exception object if any sort of exception occur from stattements it contains and then throw that exception object to except block to take approperiate action. \n",
        "\n"
      ],
      "metadata": {
        "id": "9Jqm4NYA6BMn"
      }
    },
    {
      "cell_type": "code",
      "source": [
        "number = 14\n",
        "try:\n",
        "  divisor = int(input('Enter a divisor:'))\n",
        "  result = number/divisor\n",
        "\n",
        "except ZeroDivisionError:\n",
        "  print('Invalid Divisor')\n",
        "  \n"
      ],
      "metadata": {
        "colab": {
          "base_uri": "https://localhost:8080/"
        },
        "id": "MKxF_ZGT5_ok",
        "outputId": "b716c72d-bc4e-472f-e35f-83e52b799dab"
      },
      "execution_count": 2,
      "outputs": [
        {
          "output_type": "stream",
          "name": "stdout",
          "text": [
            "Enter a divisor:0\n",
            "Invalid Divisor\n"
          ]
        }
      ]
    },
    {
      "cell_type": "markdown",
      "source": [
        "**Q2. What are the two most popular try statement variations?**"
      ],
      "metadata": {
        "id": "UzagNN_q65tl"
      }
    },
    {
      "cell_type": "code",
      "source": [
        "number = 14\n",
        "try:\n",
        "  divisor = int(input('Enter a divisor:'))\n",
        "  result = number/divisor\n",
        "\n",
        "except ZeroDivisionError:\n",
        "  print('Invalid Divisor')"
      ],
      "metadata": {
        "colab": {
          "base_uri": "https://localhost:8080/"
        },
        "id": "wP0alBsd61wT",
        "outputId": "a4ead1b0-7b5f-4a27-a8d8-a1fe75c43d32"
      },
      "execution_count": 3,
      "outputs": [
        {
          "output_type": "stream",
          "name": "stdout",
          "text": [
            "Enter a divisor:0\n",
            "Invalid Divisor\n"
          ]
        }
      ]
    },
    {
      "cell_type": "code",
      "source": [
        "number = 14\n",
        "result=0\n",
        "try:\n",
        "  divisor = int(input('Enter a divisor:'))\n",
        "  if divisor==0:\n",
        "    raise ZeroDivisionError('Invalid Divisor') \n",
        "    result=0\n",
        "  else:\n",
        "    result = number/divisor\n",
        "\n",
        "finally:\n",
        "  print(result)"
      ],
      "metadata": {
        "colab": {
          "base_uri": "https://localhost:8080/",
          "height": 269
        },
        "id": "TKURskkJ68G3",
        "outputId": "872f40ac-cd8d-444f-f585-5a1cbc3371b3"
      },
      "execution_count": 6,
      "outputs": [
        {
          "output_type": "stream",
          "name": "stdout",
          "text": [
            "Enter a divisor:0\n",
            "0\n"
          ]
        },
        {
          "output_type": "error",
          "ename": "ZeroDivisionError",
          "evalue": "ignored",
          "traceback": [
            "\u001b[0;31m---------------------------------------------------------------------------\u001b[0m",
            "\u001b[0;31mZeroDivisionError\u001b[0m                         Traceback (most recent call last)",
            "\u001b[0;32m<ipython-input-6-46666c082a16>\u001b[0m in \u001b[0;36m<module>\u001b[0;34m\u001b[0m\n\u001b[1;32m      4\u001b[0m   \u001b[0mdivisor\u001b[0m \u001b[0;34m=\u001b[0m \u001b[0mint\u001b[0m\u001b[0;34m(\u001b[0m\u001b[0minput\u001b[0m\u001b[0;34m(\u001b[0m\u001b[0;34m'Enter a divisor:'\u001b[0m\u001b[0;34m)\u001b[0m\u001b[0;34m)\u001b[0m\u001b[0;34m\u001b[0m\u001b[0;34m\u001b[0m\u001b[0m\n\u001b[1;32m      5\u001b[0m   \u001b[0;32mif\u001b[0m \u001b[0mdivisor\u001b[0m\u001b[0;34m==\u001b[0m\u001b[0;36m0\u001b[0m\u001b[0;34m:\u001b[0m\u001b[0;34m\u001b[0m\u001b[0;34m\u001b[0m\u001b[0m\n\u001b[0;32m----> 6\u001b[0;31m     \u001b[0;32mraise\u001b[0m \u001b[0mZeroDivisionError\u001b[0m\u001b[0;34m(\u001b[0m\u001b[0;34m'Invalid Divisor'\u001b[0m\u001b[0;34m)\u001b[0m\u001b[0;34m\u001b[0m\u001b[0;34m\u001b[0m\u001b[0m\n\u001b[0m\u001b[1;32m      7\u001b[0m     \u001b[0mresult\u001b[0m\u001b[0;34m=\u001b[0m\u001b[0;36m0\u001b[0m\u001b[0;34m\u001b[0m\u001b[0;34m\u001b[0m\u001b[0m\n\u001b[1;32m      8\u001b[0m   \u001b[0;32melse\u001b[0m\u001b[0;34m:\u001b[0m\u001b[0;34m\u001b[0m\u001b[0;34m\u001b[0m\u001b[0m\n",
            "\u001b[0;31mZeroDivisionError\u001b[0m: Invalid Divisor"
          ]
        }
      ]
    },
    {
      "cell_type": "markdown",
      "source": [
        "**Q3. What is the purpose of the raise statement?**"
      ],
      "metadata": {
        "id": "bzBFFfNw7bSa"
      }
    },
    {
      "cell_type": "markdown",
      "source": [
        "Raise statment can be other variation to handle exception. It raise an exception after set condition is going to be true."
      ],
      "metadata": {
        "id": "Rz1UL7C_7cQs"
      }
    },
    {
      "cell_type": "code",
      "source": [
        "number = 14\n",
        "result=0\n",
        "try:\n",
        "  divisor = int(input('Enter a divisor:'))\n",
        "  if divisor==0:\n",
        "    raise ZeroDivisionError('Invalid Divisor') \n",
        "    result=0\n",
        "  else:\n",
        "    result = number/divisor\n",
        "\n",
        "finally:\n",
        "  print(result)"
      ],
      "metadata": {
        "colab": {
          "base_uri": "https://localhost:8080/",
          "height": 269
        },
        "id": "RWUmbaaK7OSo",
        "outputId": "b4155fa5-9aab-4f54-dae6-a8b8989501e3"
      },
      "execution_count": 7,
      "outputs": [
        {
          "output_type": "stream",
          "name": "stdout",
          "text": [
            "Enter a divisor:0\n",
            "0\n"
          ]
        },
        {
          "output_type": "error",
          "ename": "ZeroDivisionError",
          "evalue": "ignored",
          "traceback": [
            "\u001b[0;31m---------------------------------------------------------------------------\u001b[0m",
            "\u001b[0;31mZeroDivisionError\u001b[0m                         Traceback (most recent call last)",
            "\u001b[0;32m<ipython-input-7-46666c082a16>\u001b[0m in \u001b[0;36m<module>\u001b[0;34m\u001b[0m\n\u001b[1;32m      4\u001b[0m   \u001b[0mdivisor\u001b[0m \u001b[0;34m=\u001b[0m \u001b[0mint\u001b[0m\u001b[0;34m(\u001b[0m\u001b[0minput\u001b[0m\u001b[0;34m(\u001b[0m\u001b[0;34m'Enter a divisor:'\u001b[0m\u001b[0;34m)\u001b[0m\u001b[0;34m)\u001b[0m\u001b[0;34m\u001b[0m\u001b[0;34m\u001b[0m\u001b[0m\n\u001b[1;32m      5\u001b[0m   \u001b[0;32mif\u001b[0m \u001b[0mdivisor\u001b[0m\u001b[0;34m==\u001b[0m\u001b[0;36m0\u001b[0m\u001b[0;34m:\u001b[0m\u001b[0;34m\u001b[0m\u001b[0;34m\u001b[0m\u001b[0m\n\u001b[0;32m----> 6\u001b[0;31m     \u001b[0;32mraise\u001b[0m \u001b[0mZeroDivisionError\u001b[0m\u001b[0;34m(\u001b[0m\u001b[0;34m'Invalid Divisor'\u001b[0m\u001b[0;34m)\u001b[0m\u001b[0;34m\u001b[0m\u001b[0;34m\u001b[0m\u001b[0m\n\u001b[0m\u001b[1;32m      7\u001b[0m     \u001b[0mresult\u001b[0m\u001b[0;34m=\u001b[0m\u001b[0;36m0\u001b[0m\u001b[0;34m\u001b[0m\u001b[0;34m\u001b[0m\u001b[0m\n\u001b[1;32m      8\u001b[0m   \u001b[0;32melse\u001b[0m\u001b[0;34m:\u001b[0m\u001b[0;34m\u001b[0m\u001b[0;34m\u001b[0m\u001b[0m\n",
            "\u001b[0;31mZeroDivisionError\u001b[0m: Invalid Divisor"
          ]
        }
      ]
    },
    {
      "cell_type": "markdown",
      "source": [
        "**Q4. What does the assert statement do, and what other statement is it like?**"
      ],
      "metadata": {
        "id": "I-X3UoDe75Sd"
      }
    },
    {
      "cell_type": "markdown",
      "source": [
        "Assertion return boolean. If assertion return true that means program go in continue statement's execution and does nothing. But if it retruns false then it will raise an assertion error,"
      ],
      "metadata": {
        "id": "OnPG-cIW8Spi"
      }
    },
    {
      "cell_type": "code",
      "source": [
        "number = 14\n",
        "result=0\n",
        "try:\n",
        "  divisor = int(input('Enter a divisor:'))\n",
        "  assert(divisor!=0)\n",
        "  \n",
        "\n",
        "finally:\n",
        "  print(result)"
      ],
      "metadata": {
        "colab": {
          "base_uri": "https://localhost:8080/",
          "height": 269
        },
        "id": "6I8r__bg70Oe",
        "outputId": "d58d43f7-c357-4866-be5c-d3e63df29be1"
      },
      "execution_count": 9,
      "outputs": [
        {
          "output_type": "stream",
          "name": "stdout",
          "text": [
            "Enter a divisor:0\n",
            "0\n"
          ]
        },
        {
          "output_type": "error",
          "ename": "AssertionError",
          "evalue": "ignored",
          "traceback": [
            "\u001b[0;31m---------------------------------------------------------------------------\u001b[0m",
            "\u001b[0;31mAssertionError\u001b[0m                            Traceback (most recent call last)",
            "\u001b[0;32m<ipython-input-9-96a5df6fc7dd>\u001b[0m in \u001b[0;36m<module>\u001b[0;34m\u001b[0m\n\u001b[1;32m      3\u001b[0m \u001b[0;32mtry\u001b[0m\u001b[0;34m:\u001b[0m\u001b[0;34m\u001b[0m\u001b[0;34m\u001b[0m\u001b[0m\n\u001b[1;32m      4\u001b[0m   \u001b[0mdivisor\u001b[0m \u001b[0;34m=\u001b[0m \u001b[0mint\u001b[0m\u001b[0;34m(\u001b[0m\u001b[0minput\u001b[0m\u001b[0;34m(\u001b[0m\u001b[0;34m'Enter a divisor:'\u001b[0m\u001b[0;34m)\u001b[0m\u001b[0;34m)\u001b[0m\u001b[0;34m\u001b[0m\u001b[0;34m\u001b[0m\u001b[0m\n\u001b[0;32m----> 5\u001b[0;31m   \u001b[0;32massert\u001b[0m\u001b[0;34m(\u001b[0m\u001b[0mdivisor\u001b[0m\u001b[0;34m!=\u001b[0m\u001b[0;36m0\u001b[0m\u001b[0;34m)\u001b[0m\u001b[0;34m\u001b[0m\u001b[0;34m\u001b[0m\u001b[0m\n\u001b[0m\u001b[1;32m      6\u001b[0m \u001b[0;34m\u001b[0m\u001b[0m\n\u001b[1;32m      7\u001b[0m \u001b[0;34m\u001b[0m\u001b[0m\n",
            "\u001b[0;31mAssertionError\u001b[0m: "
          ]
        }
      ]
    },
    {
      "cell_type": "markdown",
      "source": [
        "**Q5. What is the purpose of the with/as argument, and what other statement is it like?**"
      ],
      "metadata": {
        "id": "ALxkuGVt8sI_"
      }
    },
    {
      "cell_type": "markdown",
      "source": [
        "The python with/as statement streamlines working with files. When using the with statement to read from a file, the programmer doesn't have to worry about closing the file or dealing with other cleanup tasks, such as calling the file.close() method. The correct acquisition and disbursement of resources is guaranteed by the statement itself. This prevents runtime errors from being generated when a file is accidentally left open after it has been closed."
      ],
      "metadata": {
        "id": "BcBq70Rd88Ld"
      }
    },
    {
      "cell_type": "code",
      "source": [
        "with open('demo.txt','w') as filename:\n",
        "  filename.write('Ineuron')"
      ],
      "metadata": {
        "id": "4jqPCqwJ8A9X"
      },
      "execution_count": 11,
      "outputs": []
    },
    {
      "cell_type": "code",
      "source": [],
      "metadata": {
        "id": "58bbRQKM9EzJ"
      },
      "execution_count": null,
      "outputs": []
    }
  ]
}