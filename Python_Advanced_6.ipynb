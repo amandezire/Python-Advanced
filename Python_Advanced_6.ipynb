{
  "nbformat": 4,
  "nbformat_minor": 0,
  "metadata": {
    "colab": {
      "provenance": []
    },
    "kernelspec": {
      "name": "python3",
      "display_name": "Python 3"
    },
    "language_info": {
      "name": "python"
    }
  },
  "cells": [
    {
      "cell_type": "markdown",
      "source": [
        "**Q1. Describe three applications for exception processing.**"
      ],
      "metadata": {
        "id": "YTGF2Pb40YLV"
      }
    },
    {
      "cell_type": "markdown",
      "source": [
        "Exceptio processing is way to handle abruptly close of program without complete execution.More specific, handle run time errors\n",
        "\n",
        "Applications:\n",
        "\n",
        "\n",
        "1.   Arithmetic Exception, more specific divide by zero exception where number is about to divide by zero\n",
        "2.   File not found exception, where file name is given inside a code snippet to read where file is not present in a system\n",
        "3. StopIteration Exception, where there is no element left in iterable object during call of next() function\n",
        "\n"
      ],
      "metadata": {
        "id": "qwZzQEfK0ko1"
      }
    },
    {
      "cell_type": "markdown",
      "source": [
        "**Q2. What happens if you don&#39;t do something extra to treat an exception?**"
      ],
      "metadata": {
        "id": "Xd6V0lhl1nD9"
      }
    },
    {
      "cell_type": "markdown",
      "source": [
        "If exception handling not taken into consideration, then program may abruplty stop in between without completion"
      ],
      "metadata": {
        "id": "C63nAv8y1pOr"
      }
    },
    {
      "cell_type": "code",
      "execution_count": 2,
      "metadata": {
        "colab": {
          "base_uri": "https://localhost:8080/",
          "height": 252
        },
        "id": "ZEfuwC2k0JYM",
        "outputId": "dff08c92-522e-4746-fe15-5efe599cda52"
      },
      "outputs": [
        {
          "name": "stdout",
          "output_type": "stream",
          "text": [
            "Enter a divisor0\n"
          ]
        },
        {
          "output_type": "error",
          "ename": "ZeroDivisionError",
          "evalue": "ignored",
          "traceback": [
            "\u001b[0;31m---------------------------------------------------------------------------\u001b[0m",
            "\u001b[0;31mZeroDivisionError\u001b[0m                         Traceback (most recent call last)",
            "\u001b[0;32m<ipython-input-2-a56159b1b52e>\u001b[0m in \u001b[0;36m<module>\u001b[0;34m\u001b[0m\n\u001b[1;32m      1\u001b[0m \u001b[0mdivisor\u001b[0m \u001b[0;34m=\u001b[0m \u001b[0mint\u001b[0m\u001b[0;34m(\u001b[0m\u001b[0minput\u001b[0m\u001b[0;34m(\u001b[0m\u001b[0;34m'Enter a divisor'\u001b[0m\u001b[0;34m)\u001b[0m\u001b[0;34m)\u001b[0m\u001b[0;34m\u001b[0m\u001b[0;34m\u001b[0m\u001b[0m\n\u001b[1;32m      2\u001b[0m \u001b[0mvariable1\u001b[0m \u001b[0;34m=\u001b[0m \u001b[0;36m13\u001b[0m\u001b[0;34m\u001b[0m\u001b[0;34m\u001b[0m\u001b[0m\n\u001b[0;32m----> 3\u001b[0;31m \u001b[0mresult\u001b[0m \u001b[0;34m=\u001b[0m \u001b[0mvariable1\u001b[0m\u001b[0;34m/\u001b[0m\u001b[0mdivisor\u001b[0m\u001b[0;34m\u001b[0m\u001b[0;34m\u001b[0m\u001b[0m\n\u001b[0m\u001b[1;32m      4\u001b[0m \u001b[0mprint\u001b[0m\u001b[0;34m(\u001b[0m\u001b[0;34m'Division result is:{}'\u001b[0m\u001b[0;34m.\u001b[0m\u001b[0mformat\u001b[0m\u001b[0;34m(\u001b[0m\u001b[0mresult\u001b[0m\u001b[0;34m)\u001b[0m\u001b[0;34m)\u001b[0m\u001b[0;34m\u001b[0m\u001b[0;34m\u001b[0m\u001b[0m\n\u001b[1;32m      5\u001b[0m \u001b[0mprint\u001b[0m\u001b[0;34m(\u001b[0m\u001b[0;34m'Program Complete'\u001b[0m\u001b[0;34m)\u001b[0m\u001b[0;34m\u001b[0m\u001b[0;34m\u001b[0m\u001b[0m\n",
            "\u001b[0;31mZeroDivisionError\u001b[0m: division by zero"
          ]
        }
      ],
      "source": [
        "divisor = int(input('Enter a divisor'))\n",
        "variable1 = 13\n",
        "result = variable1/divisor\n",
        "print('Division result is:{}'.format(result))\n",
        "print('Program Complete')"
      ]
    },
    {
      "cell_type": "code",
      "source": [
        "try:\n",
        "  divisor = int(input('Enter a divisor:'))\n",
        "  variable1 = 13\n",
        "  result = variable1/divisor\n",
        "  print('Division result is:{}'.format(result))\n",
        "  print('Program Complete')\n",
        "except ArithmeticError:\n",
        "  print('Invalid Divisor')\n",
        "\n",
        "print('Program Complete')"
      ],
      "metadata": {
        "colab": {
          "base_uri": "https://localhost:8080/"
        },
        "id": "2D2aOGWY2Gp7",
        "outputId": "46b75b89-86df-4d4f-d4db-219bb8725e17"
      },
      "execution_count": 5,
      "outputs": [
        {
          "output_type": "stream",
          "name": "stdout",
          "text": [
            "Enter a divisor:0\n",
            "Invalid Divisor\n",
            "Program Complete\n"
          ]
        }
      ]
    },
    {
      "cell_type": "markdown",
      "source": [
        "**Q3. What are your options for recovering from an exception in your script?**"
      ],
      "metadata": {
        "id": "wdzLLdJ02pA1"
      }
    },
    {
      "cell_type": "markdown",
      "source": [
        "Following options can be used for recover from an excpetion:\n",
        "\n",
        "\n",
        "1.   try-except-else block\n",
        "2.   raise keyword\n",
        "\n"
      ],
      "metadata": {
        "id": "e_HjsRpH3BMi"
      }
    },
    {
      "cell_type": "markdown",
      "source": [
        "**Q4. Describe two methods for triggering exceptions in your script.**"
      ],
      "metadata": {
        "id": "9hjz53Jc3QbF"
      }
    },
    {
      "cell_type": "markdown",
      "source": [
        "Following options can be used for trigger excpetion:\n",
        "\n",
        "\n",
        "\n",
        "1.   raise\n",
        "2.   assert\n"
      ],
      "metadata": {
        "id": "e6c49Um23Usx"
      }
    },
    {
      "cell_type": "code",
      "source": [
        "try:\n",
        "  divisor = int(input('Enter a divisor:'))\n",
        "  variable1 = 13\n",
        "  if divisor==0:\n",
        "    raise ArithmeticError('Invalid divisor')\n",
        "  else:\n",
        "    result = variable1/divisor\n",
        "    print('Division result is:{}'.format(result))\n",
        "\n",
        "finally:\n",
        "  print('program complete')\n"
      ],
      "metadata": {
        "colab": {
          "base_uri": "https://localhost:8080/",
          "height": 269
        },
        "id": "M7-AUxRe2gJK",
        "outputId": "768786e3-0c05-4cfe-ecd9-0da6b62ff77f"
      },
      "execution_count": 8,
      "outputs": [
        {
          "output_type": "stream",
          "name": "stdout",
          "text": [
            "Enter a divisor:0\n",
            "program complete\n"
          ]
        },
        {
          "output_type": "error",
          "ename": "ArithmeticError",
          "evalue": "ignored",
          "traceback": [
            "\u001b[0;31m---------------------------------------------------------------------------\u001b[0m",
            "\u001b[0;31mArithmeticError\u001b[0m                           Traceback (most recent call last)",
            "\u001b[0;32m<ipython-input-8-3aa6da186107>\u001b[0m in \u001b[0;36m<module>\u001b[0;34m\u001b[0m\n\u001b[1;32m      3\u001b[0m   \u001b[0mvariable1\u001b[0m \u001b[0;34m=\u001b[0m \u001b[0;36m13\u001b[0m\u001b[0;34m\u001b[0m\u001b[0;34m\u001b[0m\u001b[0m\n\u001b[1;32m      4\u001b[0m   \u001b[0;32mif\u001b[0m \u001b[0mdivisor\u001b[0m\u001b[0;34m==\u001b[0m\u001b[0;36m0\u001b[0m\u001b[0;34m:\u001b[0m\u001b[0;34m\u001b[0m\u001b[0;34m\u001b[0m\u001b[0m\n\u001b[0;32m----> 5\u001b[0;31m     \u001b[0;32mraise\u001b[0m \u001b[0mArithmeticError\u001b[0m\u001b[0;34m(\u001b[0m\u001b[0;34m'Invalid divisor'\u001b[0m\u001b[0;34m)\u001b[0m\u001b[0;34m\u001b[0m\u001b[0;34m\u001b[0m\u001b[0m\n\u001b[0m\u001b[1;32m      6\u001b[0m   \u001b[0;32melse\u001b[0m\u001b[0;34m:\u001b[0m\u001b[0;34m\u001b[0m\u001b[0;34m\u001b[0m\u001b[0m\n\u001b[1;32m      7\u001b[0m     \u001b[0mresult\u001b[0m \u001b[0;34m=\u001b[0m \u001b[0mvariable1\u001b[0m\u001b[0;34m/\u001b[0m\u001b[0mdivisor\u001b[0m\u001b[0;34m\u001b[0m\u001b[0;34m\u001b[0m\u001b[0m\n",
            "\u001b[0;31mArithmeticError\u001b[0m: Invalid divisor"
          ]
        }
      ]
    },
    {
      "cell_type": "code",
      "source": [
        "try:\n",
        "  divisor = int(input('Enter a divisor:'))\n",
        "  variable1 = 13\n",
        "  assert(divisor==3)\n",
        "  result = variable1/divisor\n",
        "  print('Division result is:{}'.format(result))\n",
        "\n",
        "finally:\n",
        "  print('program complete')"
      ],
      "metadata": {
        "colab": {
          "base_uri": "https://localhost:8080/"
        },
        "id": "flkM8tWB4z3P",
        "outputId": "02c1d9d7-6c47-4376-890a-dacffc527926"
      },
      "execution_count": 13,
      "outputs": [
        {
          "output_type": "stream",
          "name": "stdout",
          "text": [
            "Enter a divisor:3\n",
            "Division result is:4.333333333333333\n",
            "program complete\n"
          ]
        }
      ]
    },
    {
      "cell_type": "markdown",
      "source": [
        "**Q5. Identify two methods for specifying actions to be executed at termination time, regardless of whether or not an exception exists.**"
      ],
      "metadata": {
        "id": "LvBfYVG75ekY"
      }
    },
    {
      "cell_type": "markdown",
      "source": [
        "\n",
        "\n",
        "1.   Finally\n",
        "2.   Else\n",
        "\n"
      ],
      "metadata": {
        "id": "g0lff3oA5lcm"
      }
    },
    {
      "cell_type": "code",
      "source": [],
      "metadata": {
        "id": "Oh_WCu4e5PdU"
      },
      "execution_count": null,
      "outputs": []
    }
  ]
}