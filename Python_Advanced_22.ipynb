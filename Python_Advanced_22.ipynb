{
  "nbformat": 4,
  "nbformat_minor": 0,
  "metadata": {
    "colab": {
      "provenance": []
    },
    "kernelspec": {
      "name": "python3",
      "display_name": "Python 3"
    },
    "language_info": {
      "name": "python"
    }
  },
  "cells": [
    {
      "cell_type": "markdown",
      "source": [
        "**Q1. What are the benefits of the built-in array package, if any?**"
      ],
      "metadata": {
        "id": "CSDkErCqOG0K"
      }
    },
    {
      "cell_type": "markdown",
      "source": [
        "Multiple data elements of the same kind can be represented by a single array. The index number in an array allows for arbitrary access to its elements. Memory regions for an array's components are allocated in a single block. As a result, there is zero room for error in the memory allocation process when dealing with arrays. Because to this, memory shortages and overflows in arrays are prevented."
      ],
      "metadata": {
        "id": "LxeCtEOCOQUq"
      }
    },
    {
      "cell_type": "markdown",
      "source": [
        "**Q2. What are some of the array package&#39;s limitations?**"
      ],
      "metadata": {
        "id": "qGfuTJbSOSbY"
      }
    },
    {
      "cell_type": "markdown",
      "source": [
        "An array's size should be determined before it's created. A static structure, an array (which means the array is of fixed size). The size of an array cannot be changed once it has been declared. The amount of memory allotted to it is fixed and cannot be altered.Because the elements of an array are stored in successive memory regions and the shifting operation is expensive, insertion and deletion are both quite challenging.\n",
        "\n",
        "Wasteful memory allocation results in wasted space, while insufficient allocation causes issues as well."
      ],
      "metadata": {
        "id": "maytBuPUOap6"
      }
    },
    {
      "cell_type": "markdown",
      "source": [
        "**Q3. Describe the main differences between the array and numpy packages.**"
      ],
      "metadata": {
        "id": "cdxU67-COcRO"
      }
    },
    {
      "cell_type": "markdown",
      "source": [
        "In contrast to NumPy, which provides a wide range of numerical operations, the array package does not provide any assistance with numerical calculation with the elements inside it in number form.Contrast this with numpy, which can have more than one dimension, and you'll see that arrays only carry numerical data in one dimension.Accessing an item in an array is a simple matter of looking up its index, whereas with numpy you'll need to look up its index in both the column and row. This also applies to the appending operation.\n",
        "\n",
        "While a tabular structure is not formed in the case of array, one is formed in numpy."
      ],
      "metadata": {
        "id": "4fqbtB2cOkeE"
      }
    },
    {
      "cell_type": "markdown",
      "source": [
        "**Q4. Explain the distinctions between the empty, ones, and zeros functions.**"
      ],
      "metadata": {
        "id": "_fin0l3wOm-V"
      }
    },
    {
      "cell_type": "markdown",
      "source": [
        "**Here are some key differences between the zero, one, and empty functions:**\n",
        "\n",
        "**Empty Function:**A function that does nothing is said to be \"empty,\" or to have \"no body.\" Python will throw an error if you try to define a function without including any statements. As such, we employ a pass statement to prevent that from happening. An exceptional statement in Python, pass, has no effect. It's a useless statement except in that role.\n",
        "\n",
        "\n",
        "**Ones Function:** Values of 1 are returned by this function, which creates a new array of the specified size and data type with all elements set to 1.\n",
        "\n",
        "\n",
        "**Zeros Function:** Values of 0 are returned by this function, which creates a new array of the specified size and data type with all of its elements set to 0."
      ],
      "metadata": {
        "id": "B62un25rOzEc"
      }
    },
    {
      "cell_type": "markdown",
      "source": [
        "**Q5. In the fromfunction function, which is used to construct new arrays, what is the role of the callable argument?**"
      ],
      "metadata": {
        "id": "YJEjw88BPH4R"
      }
    },
    {
      "cell_type": "markdown",
      "source": [
        "Its purpose is to apply the function to each coordinate, producing an array as a result. The rank of shape determines how many parameters can be passed to the function. Array coordinates along a given axis are represented by individual parameters."
      ],
      "metadata": {
        "id": "oVC6iduIPNaR"
      }
    },
    {
      "cell_type": "markdown",
      "source": [
        "**Q6. What happens when a numpy array is combined with a single-value operand (a scalar, such as an int or a floating-point value) through addition, as in the expression A + n?**"
      ],
      "metadata": {
        "id": "jQlZltiJPO3R"
      }
    },
    {
      "cell_type": "markdown",
      "source": [
        "If an integer scaler value is added to a numpy array, that value will be propagated to each element of the array."
      ],
      "metadata": {
        "id": "BXF7JAOHPfsa"
      }
    },
    {
      "cell_type": "code",
      "execution_count": 3,
      "metadata": {
        "colab": {
          "base_uri": "https://localhost:8080/"
        },
        "id": "l0RV75G-OCB-",
        "outputId": "d6896eae-8d51-4a0b-ad44-990284a97b63"
      },
      "outputs": [
        {
          "output_type": "stream",
          "name": "stdout",
          "text": [
            "[[0 1 2]\n",
            " [3 4 5]]\n",
            "\n",
            "[[1 2 3]\n",
            " [4 5 6]]\n"
          ]
        }
      ],
      "source": [
        "import numpy as np\n",
        "a=np.arange(6).reshape(2,3)\n",
        "print(a)\n",
        "print()\n",
        "print(a+1)\n"
      ]
    },
    {
      "cell_type": "markdown",
      "source": [
        "Q7. Can array-to-scalar operations use combined operation-assign operators (such as += or *=)? What is the outcome? "
      ],
      "metadata": {
        "id": "kxSnaIl1Phs9"
      }
    },
    {
      "cell_type": "markdown",
      "source": [
        "It'll carry out the procedure as instructed by the humans. So, the + operator will cause an addition to be made to the current array, whereas the * operator will cause a multiplication to be made."
      ],
      "metadata": {
        "id": "ySWi8JGNPzEE"
      }
    },
    {
      "cell_type": "markdown",
      "source": [
        "**Q8. Does a numpy array contain fixed-length strings? What happens if you allocate a longer string to one of these arrays?**"
      ],
      "metadata": {
        "id": "vzVCHzL1P0ji"
      }
    },
    {
      "cell_type": "markdown",
      "source": [
        "Including a string of known length in a numpy array is certainly possible. Any numpy array that stores strings uses the maximum length of the longest string in the array as its dtype. Once this value is set, the array can only store strings whose length is less than or equal to the value specified. Reassigning a string value that is longer than the longest existing element causes all values longer than the limit to be discarded, up to but not including the longest value."
      ],
      "metadata": {
        "id": "KHrX053vQDaF"
      }
    },
    {
      "cell_type": "markdown",
      "source": [
        "Q9. What happens when you combine two numpy arrays using an operation like addition (+) or multiplication (*)? What are the conditions for combining two numpy arrays?"
      ],
      "metadata": {
        "id": "PvsSFsjLQE1N"
      }
    },
    {
      "cell_type": "markdown",
      "source": [
        "When applied to the same position, it merely adds or multiplies the elements together."
      ],
      "metadata": {
        "id": "zyYZNEyzQL4r"
      }
    },
    {
      "cell_type": "markdown",
      "source": [
        "**Q10. What is the best way to use a Boolean array to mask another array?**"
      ],
      "metadata": {
        "id": "UM9B2haiQNeh"
      }
    },
    {
      "cell_type": "markdown",
      "source": [
        "The masked where function in the numpy package is the most efficient way to use a Boolean array to hide the contents of another array."
      ],
      "metadata": {
        "id": "Fi2y1jaVQSqG"
      }
    },
    {
      "cell_type": "markdown",
      "source": [
        "**Q11. What are three different ways to get the standard deviation of a wide collection of data using both standard Python and its packages? Sort the three of them by how quickly they execute.**"
      ],
      "metadata": {
        "id": "kCaC_iJZQUTB"
      }
    },
    {
      "cell_type": "markdown",
      "source": [
        "**Following are three ways to get SD**\n",
        "1. np.std\n",
        "2. using math module\n",
        "3. without using any package"
      ],
      "metadata": {
        "id": "WzX4j1RCQ3wt"
      }
    },
    {
      "cell_type": "code",
      "source": [
        "import math\n",
        "import numpy as np\n",
        "x = [1,2]\n",
        "SD = np.std(x)\n",
        "print(SD)"
      ],
      "metadata": {
        "colab": {
          "base_uri": "https://localhost:8080/"
        },
        "id": "Q_l4B6pjQLxV",
        "outputId": "ef374fe8-3157-42a0-960a-39d1a8e05317"
      },
      "execution_count": 9,
      "outputs": [
        {
          "output_type": "stream",
          "name": "stdout",
          "text": [
            "0.5\n"
          ]
        }
      ]
    },
    {
      "cell_type": "code",
      "source": [
        "import math\n",
        "import sys\n",
        "\n",
        "def sd_calc(data):\n",
        "    n = len(data)\n",
        "\n",
        "    if n <= 1:\n",
        "        return 0.0\n",
        "\n",
        "    mean, sd = avg_calc(data), 0.0\n",
        "\n",
        "    # calculate stan. dev.\n",
        "    for el in data:\n",
        "        sd += (float(el) - mean)**2\n",
        "    sd = math.sqrt(sd / float(n-1))\n",
        "\n",
        "    return sd\n",
        "\n",
        "def avg_calc(ls):\n",
        "    n, mean = len(ls), 0.0\n",
        "\n",
        "    if n <= 1:\n",
        "        return ls[0]\n",
        "\n",
        "    # calculate average\n",
        "    for el in ls:\n",
        "        mean = mean + float(el)\n",
        "    mean = mean / float(n)\n",
        "\n",
        "    return mean\n",
        "\n",
        "data = [4, 2, 5, 8, 6]\n",
        "print(\"Sample Data: \",data)\n",
        "print(\"Standard Deviation : \",sd_calc(data))"
      ],
      "metadata": {
        "colab": {
          "base_uri": "https://localhost:8080/"
        },
        "id": "axR8fjbGRPGG",
        "outputId": "82dbb2d9-eb3d-42d2-ce05-9d9ea58ac658"
      },
      "execution_count": 10,
      "outputs": [
        {
          "output_type": "stream",
          "name": "stdout",
          "text": [
            "Sample Data:  [4, 2, 5, 8, 6]\n",
            "Standard Deviation :  2.23606797749979\n"
          ]
        }
      ]
    },
    {
      "cell_type": "code",
      "source": [
        "a = a=np.arange(9).reshape(3,3)\n",
        "avg = a\n",
        "N = 1\n",
        "SD = (((1-avg)**2 + (2-avg)**2)/N)**1/2\n",
        "print(SD)"
      ],
      "metadata": {
        "colab": {
          "base_uri": "https://localhost:8080/"
        },
        "id": "sWcCm0vBRoh4",
        "outputId": "8a4867b9-f22a-4bcd-f1ad-c627a95f4c95"
      },
      "execution_count": 12,
      "outputs": [
        {
          "output_type": "stream",
          "name": "stdout",
          "text": [
            "[[ 2.5  0.5  0.5]\n",
            " [ 2.5  6.5 12.5]\n",
            " [20.5 30.5 42.5]]\n"
          ]
        }
      ]
    },
    {
      "cell_type": "markdown",
      "source": [
        "**12. What is the dimensionality of a Boolean mask-generated array?**"
      ],
      "metadata": {
        "id": "jZ1oSEB6QdhZ"
      }
    },
    {
      "cell_type": "markdown",
      "source": [
        "It will have same dimensionality as input array."
      ],
      "metadata": {
        "id": "S-QysQoDQmOJ"
      }
    },
    {
      "cell_type": "code",
      "source": [],
      "metadata": {
        "id": "2OoDRMGKQeUn"
      },
      "execution_count": null,
      "outputs": []
    },
    {
      "cell_type": "code",
      "source": [],
      "metadata": {
        "id": "G-8zxzUQPTEl"
      },
      "execution_count": null,
      "outputs": []
    }
  ]
}