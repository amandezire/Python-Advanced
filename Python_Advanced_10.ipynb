{
  "nbformat": 4,
  "nbformat_minor": 0,
  "metadata": {
    "colab": {
      "provenance": []
    },
    "kernelspec": {
      "name": "python3",
      "display_name": "Python 3"
    },
    "language_info": {
      "name": "python"
    }
  },
  "cells": [
    {
      "cell_type": "markdown",
      "source": [
        "**Q1. What is the difference between __getattr__ and __getattribute__?**"
      ],
      "metadata": {
        "id": "zufjQF3xEpda"
      }
    },
    {
      "cell_type": "markdown",
      "source": [
        "In contrast to __getattribute__, __getattr__ is only called if all other methods of locating the attribute have failed. Since __getattribute__ is called before the object's attributes are examined, it can be difficult to get it right. It is simple to get stuck in a never-ending loop of recursion."
      ],
      "metadata": {
        "id": "hRlsv-juE8ui"
      }
    },
    {
      "cell_type": "markdown",
      "source": [
        "**Q2. What is the difference between properties and descriptors?**"
      ],
      "metadata": {
        "id": "5484auTzFAmn"
      }
    },
    {
      "cell_type": "markdown",
      "source": [
        "The property function provides the simplest means of defining the get, set, and delete operations that can be applied to a given attribute name. The property function helps you create identifiers. Defining descriptor classes by hand is an approach that is little less approachable, but more reusable and extendable. You'll have a lot of leeway with this. You do this by associating the name of an attribute with a descriptor class you've created that defines the get, set, and delete methods.The property function provides a convenient means of implementing a basic descriptor without the need to create a new class specifically for that purpose. It is possible to define an attribute's behaviour without defining the entire class; instead, we can write getter and setter method functions and tie them to the attribute name."
      ],
      "metadata": {
        "id": "dOVA7XpLFX1j"
      }
    },
    {
      "cell_type": "markdown",
      "source": [
        "**Q3. What are the key differences in functionality between __getattr__ and __getattribute__, as well as properties and descriptors?**"
      ],
      "metadata": {
        "id": "tqF7sfO2FcZT"
      }
    },
    {
      "cell_type": "markdown",
      "source": [
        "\n",
        "\n",
        "1. getattr is only called if all other methods of locating the attribute have failed.\n",
        "2. Since getattribute is called before the object's attributes are examined, it can be difficult to get it right. It is simple to get stuck in a never-ending loop of recursion.\n",
        "3. The property function helps you create identifiers. Defining descriptor classes by hand is an approach that is little less approachable, but more reusable and extendable. You'll have a lot of leeway with this. You do this by associating the name of an attribute with a descriptor class you've created that defines the get, set, and delete methods.The property function provides a convenient means of implementing a basic descriptor without the need to create a new class specifically for that purpose\n",
        "\n"
      ],
      "metadata": {
        "id": "f1iozaU1FpX0"
      }
    },
    {
      "cell_type": "code",
      "execution_count": null,
      "metadata": {
        "id": "UP-KQZCyEYu4"
      },
      "outputs": [],
      "source": []
    }
  ]
}