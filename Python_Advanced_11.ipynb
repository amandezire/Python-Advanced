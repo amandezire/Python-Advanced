{
  "nbformat": 4,
  "nbformat_minor": 0,
  "metadata": {
    "colab": {
      "provenance": []
    },
    "kernelspec": {
      "name": "python3",
      "display_name": "Python 3"
    },
    "language_info": {
      "name": "python"
    }
  },
  "cells": [
    {
      "cell_type": "markdown",
      "source": [
        "**Q1. What is the concept of a metaclass?**"
      ],
      "metadata": {
        "id": "zf_A9RM7HRZt"
      }
    },
    {
      "cell_type": "markdown",
      "source": [
        "In Python, a metaclass is a class that specifies the behaviour of another class. In Python, any Instance of Class is an Instance of type metaclass, since a class is an instance of Metaclass. Metaclass type includes a wide variety of common data types such as list, tuple,set, dictionary,int, float,str,and many more."
      ],
      "metadata": {
        "id": "HUmZKnhmHnqt"
      }
    },
    {
      "cell_type": "code",
      "source": [
        "class meta(type):\n",
        "    pass\n",
        "class class_meta(metaclass=meta):\n",
        "    pass\n",
        "print(type(meta))\n",
        "print(type(class_meta))"
      ],
      "metadata": {
        "colab": {
          "base_uri": "https://localhost:8080/"
        },
        "id": "6mbB5Ee5IGXd",
        "outputId": "35eb8c73-705a-49d5-800e-e434971a4027"
      },
      "execution_count": 3,
      "outputs": [
        {
          "output_type": "stream",
          "name": "stdout",
          "text": [
            "<class 'type'>\n",
            "<class '__main__.meta'>\n"
          ]
        }
      ]
    },
    {
      "cell_type": "markdown",
      "source": [
        "In above. meta is a class and class_meta is instance of a classs meta"
      ],
      "metadata": {
        "id": "Yc88to2qIIoY"
      }
    },
    {
      "cell_type": "markdown",
      "source": [
        "**Q2. What is the best way to declare a class&#39;s metaclass?**"
      ],
      "metadata": {
        "id": "sZohP7c5Hzlc"
      }
    },
    {
      "cell_type": "code",
      "execution_count": 2,
      "metadata": {
        "colab": {
          "base_uri": "https://localhost:8080/"
        },
        "id": "1Jqx4xL4HI9-",
        "outputId": "dd2fb57b-bcae-4dee-994b-12171da419e4"
      },
      "outputs": [
        {
          "output_type": "stream",
          "name": "stdout",
          "text": [
            "<class 'type'>\n",
            "<class '__main__.meta'>\n"
          ]
        }
      ],
      "source": [
        "class meta(type):\n",
        "    pass\n",
        "class class_meta(metaclass=meta):\n",
        "    pass\n",
        "print(type(meta))\n",
        "print(type(class_meta))\n"
      ]
    },
    {
      "cell_type": "markdown",
      "source": [
        "**Q3. How do class decorators overlap with metaclasses for handling classes?**"
      ],
      "metadata": {
        "id": "rYbW0ceXISzo"
      }
    },
    {
      "cell_type": "markdown",
      "source": [
        "If we can do something with a class decorator, we can do it with a custom metaclass in support of use the \"decorator function,\" the one that accepts a class object and alters it, during the __new__ or __init__ that make the class object."
      ],
      "metadata": {
        "id": "93BH6iiHIiv5"
      }
    },
    {
      "cell_type": "markdown",
      "source": [
        "**Q4. How do class decorators overlap with metaclasses for handling instances?**"
      ],
      "metadata": {
        "id": "RfrgfmgRItdx"
      }
    },
    {
      "cell_type": "markdown",
      "source": [
        "If we can do something with a class decorator, we can do it with a custom metaclass in support of use the \"decorator function,\" the one that accepts a class object and alters it, during the __new__ or __init__ that make the class object."
      ],
      "metadata": {
        "id": "moj0fbQyIyqR"
      }
    },
    {
      "cell_type": "code",
      "source": [],
      "metadata": {
        "id": "_GjLGZVVICGY"
      },
      "execution_count": null,
      "outputs": []
    }
  ]
}