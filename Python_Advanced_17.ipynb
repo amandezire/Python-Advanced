{
  "nbformat": 4,
  "nbformat_minor": 0,
  "metadata": {
    "colab": {
      "provenance": []
    },
    "kernelspec": {
      "name": "python3",
      "display_name": "Python 3"
    },
    "language_info": {
      "name": "python"
    }
  },
  "cells": [
    {
      "cell_type": "markdown",
      "source": [
        "**Q1. Explain the difference between greedy and non-greedy syntax with visual terms in as few words as possible. What is the bare minimum effort required to transform a greedy pattern into a non-greedy one? What characters or characters can you introduce or change?**"
      ],
      "metadata": {
        "id": "YTDSskZC4QAM"
      }
    },
    {
      "cell_type": "markdown",
      "source": [
        "**Greedy Syntax:** Regular expressions are \"greedy,\" meaning they attempt to find as many feasible matches in a given string.That is, the star causes the regex engine to repeat the preceding literal as often as possible. So, the engine will repeat the dot as many times as it can.\n",
        "\n",
        "\n",
        "**Non Greedy Syntax:**The issue can be resolved by making the star slothful rather than avaricious. Put a question mark (?) after the star in the regex to achieve this."
      ],
      "metadata": {
        "id": "wsDjCLHS7c2v"
      }
    },
    {
      "cell_type": "markdown",
      "source": [
        "**Q2. When exactly does greedy versus non-greedy make a difference?  What if you&#39;re looking for a non-greedy match but the only one available is greedy?**"
      ],
      "metadata": {
        "id": "p-HPG8tU9kKY"
      }
    },
    {
      "cell_type": "markdown",
      "source": [
        "Python's non-greedy regex version finds the shortest matching string. Python's \"greedy\" variant matches the longest string possible. In the event when just a non-greedy match is available, alternative regex filtering and pattern matching techniques can be used to zero in on the necessary pattern."
      ],
      "metadata": {
        "id": "pWr_IFSO96Hz"
      }
    },
    {
      "cell_type": "markdown",
      "source": [
        "**Q3. In a simple match of a string, which looks only for one match and does not do any replacement, is the use of a nontagged group likely to make any practical difference?**"
      ],
      "metadata": {
        "id": "3h_2nQC297wl"
      }
    },
    {
      "cell_type": "code",
      "execution_count": 6,
      "metadata": {
        "colab": {
          "base_uri": "https://localhost:8080/"
        },
        "id": "NdYUDYaL4JCC",
        "outputId": "5d740ef9-875a-4424-fdc4-cbaf3a843882"
      },
      "outputs": [
        {
          "output_type": "stream",
          "name": "stdout",
          "text": [
            "Phone number found: 842\n",
            "Phone number found: 842\n"
          ]
        }
      ],
      "source": [
        "import re\n",
        "phoneNumRegex = re.compile(r'\\d\\d\\d')\n",
        "mo = phoneNumRegex.search('My number is 84279-784-84.')\n",
        "print('Phone number found: ' + mo.group()) # non tagged group\n",
        "print('Phone number found: ' + mo.group(0))\n"
      ]
    },
    {
      "cell_type": "markdown",
      "source": [
        "**Q4. Describe a scenario in which using a nontagged category would have a significant impact on the program&#39;s outcomes.**"
      ],
      "metadata": {
        "id": "bKk7LwXaAAje"
      }
    },
    {
      "cell_type": "code",
      "source": [
        "import re\n",
        "string='890.913.35'\n",
        "pattern=r'(\\d+)(?:.)(\\d+)(?:.)(\\d+)'\n",
        "regobj=re.compile(pattern)\n",
        "matobj=regobj.search(string)\n",
        "matobj.groups()"
      ],
      "metadata": {
        "colab": {
          "base_uri": "https://localhost:8080/"
        },
        "id": "9wRzA9xeAIo3",
        "outputId": "702ac995-dfe5-488b-cafc-40650d7b9fd9"
      },
      "execution_count": 14,
      "outputs": [
        {
          "output_type": "execute_result",
          "data": {
            "text/plain": [
              "('890', '913', '35')"
            ]
          },
          "metadata": {},
          "execution_count": 14
        }
      ]
    },
    {
      "cell_type": "markdown",
      "source": [
        "**Q5. Unlike a normal regex pattern, a look-ahead condition does not consume the characters it examines. Describe a situation in which this could make a difference in the results of your programme.**"
      ],
      "metadata": {
        "id": "-wIA_bFP_Ipv"
      }
    },
    {
      "cell_type": "markdown",
      "source": [
        "Having a positive look ahead makes a difference when counting the number of lines in a string or the number of sentences in a string that contain numerous words."
      ],
      "metadata": {
        "id": "fGsnmaA_AObJ"
      }
    },
    {
      "cell_type": "markdown",
      "source": [
        "**Q6. In standard expressions, what is the difference between positive look-ahead and negative look-ahead?**"
      ],
      "metadata": {
        "id": "y9DpwMDN_r34"
      }
    },
    {
      "cell_type": "markdown",
      "source": [
        "Having a positive look ahead makes a difference when counting the number of lines in a string or the number of sentences in a string that contain numerous words."
      ],
      "metadata": {
        "id": "PoFsTf_w_4Mg"
      }
    },
    {
      "cell_type": "code",
      "source": [
        "import re\n",
        "pat=r'abc(?=[A-Z])'\n",
        "text=\"abcABCEF\"\n",
        "regobj=re.compile(pat)\n",
        "matobj=regobj.findall(text)\n",
        "print(\"Positive lookahead:\",matobj)\n"
      ],
      "metadata": {
        "colab": {
          "base_uri": "https://localhost:8080/"
        },
        "id": "_M9T8bSN_PXK",
        "outputId": "013b7a5d-7e1e-43cf-dd0f-46950af4d7b1"
      },
      "execution_count": 15,
      "outputs": [
        {
          "output_type": "stream",
          "name": "stdout",
          "text": [
            "Positive lookahead: ['abc']\n"
          ]
        }
      ]
    },
    {
      "cell_type": "code",
      "source": [
        "import re\n",
        "pat1=r'abc(?!abc)'\n",
        "text1=\"aeiouabcabc\"\n",
        "regobj1=re.compile(pat1)\n",
        "matobj1=regobj1.findall(text)\n",
        "print(\"Negative look ahead:\",matobj1) "
      ],
      "metadata": {
        "colab": {
          "base_uri": "https://localhost:8080/"
        },
        "id": "kT8dImQaAUOh",
        "outputId": "1b7800ef-5665-4ba6-a479-186eb74b1b7d"
      },
      "execution_count": 16,
      "outputs": [
        {
          "output_type": "stream",
          "name": "stdout",
          "text": [
            "Negative look ahead: ['abc']\n"
          ]
        }
      ]
    },
    {
      "cell_type": "markdown",
      "source": [
        "**Q7. What is the benefit of referring to groups by name rather than by number in a standard expression?**"
      ],
      "metadata": {
        "id": "UqX9YJLsAtyM"
      }
    },
    {
      "cell_type": "markdown",
      "source": [
        "Code is mantaineable and looks clear"
      ],
      "metadata": {
        "id": "A6Rx9ErJA1Tf"
      }
    },
    {
      "cell_type": "markdown",
      "source": [
        "**Q8. Can you identify repeated items within a target string using named groups, as in &quot;The cow jumped over the moon&quot;?**"
      ],
      "metadata": {
        "id": "uJsfFzWfA7Oq"
      }
    },
    {
      "cell_type": "code",
      "source": [
        "import re\n",
        "text = \"The cow jumped over the moon\"\n",
        "regobj=re.compile(r'(The)',re.I)\n",
        "regobj.findall(text)"
      ],
      "metadata": {
        "colab": {
          "base_uri": "https://localhost:8080/"
        },
        "id": "6V5eOOOwAWUv",
        "outputId": "459ea8b1-300a-450e-dba8-41476b0e87bc"
      },
      "execution_count": 21,
      "outputs": [
        {
          "output_type": "execute_result",
          "data": {
            "text/plain": [
              "['The', 'the']"
            ]
          },
          "metadata": {},
          "execution_count": 21
        }
      ]
    },
    {
      "cell_type": "markdown",
      "source": [
        "**Q9. When parsing a string, what is at least one thing that the Scanner interface does for you that the re.findall feature does not?**"
      ],
      "metadata": {
        "id": "msKDgkoJL6EH"
      }
    },
    {
      "cell_type": "markdown",
      "source": [
        "**re.search()** method either returns None (if the pattern doesn’t match), or a re.MatchObject that contains information about the matching part of the string. In contrast to other methods of data extraction, this one stops working after the first match is made. **returnall** non-overlapping matches of pattern in string, as a list of strings. Matches are returned in the order they were found as the string is read from left to right."
      ],
      "metadata": {
        "id": "8_Cnl4DCMRsS"
      }
    },
    {
      "cell_type": "markdown",
      "source": [
        "**Q10. Does a scanner object have to be named scanner?**"
      ],
      "metadata": {
        "id": "YGx7yKPQMZpQ"
      }
    },
    {
      "cell_type": "markdown",
      "source": [
        "There's no need to give the scanner object that name. Name it whatever you like."
      ],
      "metadata": {
        "id": "-YrDK2bNMfRK"
      }
    },
    {
      "cell_type": "code",
      "source": [],
      "metadata": {
        "id": "wy_ac5w-BAGQ"
      },
      "execution_count": null,
      "outputs": []
    }
  ]
}