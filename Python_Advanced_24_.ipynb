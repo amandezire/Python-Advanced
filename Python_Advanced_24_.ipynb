{
  "nbformat": 4,
  "nbformat_minor": 0,
  "metadata": {
    "colab": {
      "provenance": []
    },
    "kernelspec": {
      "name": "python3",
      "display_name": "Python 3"
    },
    "language_info": {
      "name": "python"
    }
  },
  "cells": [
    {
      "cell_type": "markdown",
      "source": [
        "**Q1. Is it permissible to use several import statements to import the same module? What would the goal be? Can you think of a situation where it would be beneficial?**"
      ],
      "metadata": {
        "id": "lIiDZKnFKzfd"
      }
    },
    {
      "cell_type": "markdown",
      "source": [
        "Repeatedly importing the same module using import statements is possible. This is used, for instance, when we want to use the base class of a module to import a different function or class.\n"
      ],
      "metadata": {
        "id": "2zGpde_7LWDT"
      }
    },
    {
      "cell_type": "code",
      "source": [
        "from sklearn.model_selection import train_test_split\n",
        "from sklearn.model_selection import GridSearchCV"
      ],
      "metadata": {
        "id": "rn8Jc0V7LYBM"
      },
      "execution_count": 2,
      "outputs": []
    },
    {
      "cell_type": "markdown",
      "source": [
        "**Q2. What are some of a module&#39;s characteristics? (Name at least one.)**"
      ],
      "metadata": {
        "id": "Fn7GyYRJK2QT"
      }
    },
    {
      "cell_type": "markdown",
      "source": [
        "**Name:** This function gives back the module's actual name. doc : It indicates the line in a module's documentation string where that line's documentation is referenced.\n",
        "\n",
        "\n",
        "**code.file:**  It stores the filename and directory where the module was loaded.\n",
        "\n"
      ],
      "metadata": {
        "id": "VIaSalMRLs9n"
      }
    },
    {
      "cell_type": "markdown",
      "source": [
        "**Q3. Circular importing, such as when two modules import each other, can lead to dependencies and bugs that aren&#39;t visible. How can you go about creating a program that avoids mutual importing?**"
      ],
      "metadata": {
        "id": "eQ37-R_HK6hj"
      }
    },
    {
      "cell_type": "markdown",
      "source": [
        "Say we're working in MOD1.py and it imports a function called F2() from another module called MOD2.py, or vice versa.\n",
        "A problem with importation will result from doing this. This happens because the MOD2.py file is run when the F2() function is imported from it. Also, a second instruction to import the MOD1.py module can be found in the related MOD2.py file. In this case, the loop will never terminate. Simply using the conditional statement if name == \"main\" will fix this problem. No direct references to the function itself are allowed within the function itself. Programs that lack this statement tend to get stuck in a never-ending loop, so adding it was a smart move."
      ],
      "metadata": {
        "id": "dBIhlbFSMOIt"
      }
    },
    {
      "cell_type": "markdown",
      "source": [
        "**Q4. Why is _ _all_ _ in Python?**"
      ],
      "metadata": {
        "id": "y-WOLzA2K90e"
      }
    },
    {
      "cell_type": "markdown",
      "source": [
        "Using import * allows us to access all the modules in a library."
      ],
      "metadata": {
        "id": "RluQLdu9MWfz"
      }
    },
    {
      "cell_type": "markdown",
      "source": [
        "**Q5. In what situation is it useful to refer to the _ _name_ _ attribute or the string &#39;_ _main_ _&#39;?**"
      ],
      "metadata": {
        "id": "HBXtacB5LAj1"
      }
    },
    {
      "cell_type": "markdown",
      "source": [
        "The name attribute is used during runtime to identify the active module. In that instance, it will return the current module. In the event that this module is being imported from another, the module's name will be contained within the name field. A module ID of ' main _' indicates the one we're working on right now."
      ],
      "metadata": {
        "id": "JuQv6wemMi37"
      }
    },
    {
      "cell_type": "markdown",
      "source": [
        "**Q6. What are some of the benefits of attaching a program counter to the RPN interpreter application, which interprets an RPN script line by line?**"
      ],
      "metadata": {
        "id": "5HUHhKeELDjo"
      }
    },
    {
      "cell_type": "markdown",
      "source": [
        "In contrast to traditional keyboarding methods, RPN reduces work and effort. You don't use or keep track of parentheses in calculations. This method is analogous to how you may have acquired mathematics in a textbook. You are not limited to seeing only the final result of your calculations but can instead view intermediate outcomes as you go."
      ],
      "metadata": {
        "id": "7Zd_7aYiMuw3"
      }
    },
    {
      "cell_type": "markdown",
      "source": [
        "**Q7. What are the minimum expressions or statements (or both) that you&#39;d need to render a basic programming language like RPN primitive but complete— that is, capable of carrying out any computerised task theoretically possible?**"
      ],
      "metadata": {
        "id": "CNnK3Ce7LG3f"
      }
    },
    {
      "cell_type": "markdown",
      "source": [
        "+-/*\n",
        "\n",
        "These notations are the very minimum for any kind of computerised work, including RPN Primitive. The elements of a statement, excluding operators, must be stored in a special data structure."
      ],
      "metadata": {
        "id": "lAI8QjDUM4b0"
      }
    },
    {
      "cell_type": "code",
      "execution_count": null,
      "metadata": {
        "id": "LdHQ-1k1KuxF"
      },
      "outputs": [],
      "source": []
    }
  ]
}