{
  "nbformat": 4,
  "nbformat_minor": 0,
  "metadata": {
    "colab": {
      "provenance": []
    },
    "kernelspec": {
      "name": "python3",
      "display_name": "Python 3"
    },
    "language_info": {
      "name": "python"
    }
  },
  "cells": [
    {
      "cell_type": "markdown",
      "source": [
        "**Q1. Define the relationship between a class and its instances. Is it a one-to-one or a one-to-many partnership, for example?**"
      ],
      "metadata": {
        "id": "JZbN1VeVBBAV"
      }
    },
    {
      "cell_type": "markdown",
      "source": [
        "A class is a conceptualization of something concrete. There are attributes and procedures included. A class's instances are the classes' objects. Class and its institutions have a one-to-many relationship."
      ],
      "metadata": {
        "id": "AxvIw98JBg9i"
      }
    },
    {
      "cell_type": "markdown",
      "source": [
        "**Q2. What kind of data is held only in an instance?**"
      ],
      "metadata": {
        "id": "F6M_pBijBi_q"
      }
    },
    {
      "cell_type": "markdown",
      "source": [
        "All the data that is unique to an Instance object is stored in its Instance variables."
      ],
      "metadata": {
        "id": "7XyZDZpbBobG"
      }
    },
    {
      "cell_type": "markdown",
      "source": [
        "**Q3. What kind of knowledge is stored in a class?**"
      ],
      "metadata": {
        "id": "K36qQ_fjBqFj"
      }
    },
    {
      "cell_type": "markdown",
      "source": [
        "One way to access and use a user-defined data structure is to make an instance of that structure, or \"instance of class,\" which contains all of the data members and member functions for that class. In this way, a class can be thought of as an object's blueprint."
      ],
      "metadata": {
        "id": "CcsA7rDtB6f2"
      }
    },
    {
      "cell_type": "markdown",
      "source": [
        "**Q4. What exactly is a method, and how is it different from a regular function?**"
      ],
      "metadata": {
        "id": "v50ztjWxB8N4"
      }
    },
    {
      "cell_type": "markdown",
      "source": [
        "The instance variables of a class can be accessed through its methods. Therefore, the object's method can affect the object's state. Instance characteristics and state cannot be accessed or modified by functions."
      ],
      "metadata": {
        "id": "Z6zyYqbsCFcl"
      }
    },
    {
      "cell_type": "markdown",
      "source": [
        "**Q5. Is inheritance supported in Python, and if so, what is the syntax?**"
      ],
      "metadata": {
        "id": "Kd0N2wPaCHSq"
      }
    },
    {
      "cell_type": "code",
      "execution_count": 1,
      "metadata": {
        "colab": {
          "base_uri": "https://localhost:8080/"
        },
        "id": "r06DU_n5A8V-",
        "outputId": "e74b7fc5-d6e0-446e-8dba-d504787cb7b0"
      },
      "outputs": [
        {
          "output_type": "stream",
          "name": "stdout",
          "text": [
            "Class of Instance: <class '__main__.child'>\n",
            "Base class: (<class '__main__.parent'>,)\n"
          ]
        }
      ],
      "source": [
        "class parent:\n",
        "  number = 10\n",
        "  def __init__(self):\n",
        "    pass\n",
        "\n",
        "class child(parent):\n",
        "  def __init__(self):\n",
        "    super().__init__()\n",
        "\n",
        "\n",
        "object_child = child()\n",
        "print(\"Class of Instance:\",object_child.__class__)\n",
        "print(\"Base class:\",object_child.__class__.__bases__)"
      ]
    },
    {
      "cell_type": "markdown",
      "source": [
        "**Q6. How much encapsulation (making instance or class variables private) does Python support?**"
      ],
      "metadata": {
        "id": "Sr429eBlCeAc"
      }
    },
    {
      "cell_type": "markdown",
      "source": [
        "When something is encapsulated, it can't be accessed accidently or on purpose. To some extent, the private properties and methods are not hidden. In the object method, you can get at the private data."
      ],
      "metadata": {
        "id": "_rdMdSvOClte"
      }
    },
    {
      "cell_type": "markdown",
      "source": [
        "**Q7. How do you distinguish between a class variable and an instance variable?**"
      ],
      "metadata": {
        "id": "D_haNxL6Cnqq"
      }
    },
    {
      "cell_type": "markdown",
      "source": [
        "When a class attribute is set, all objects of that class can make use of it. Instance variables are private and can only be accessed by instances of a particular class."
      ],
      "metadata": {
        "id": "mDAl-69WCufP"
      }
    },
    {
      "cell_type": "markdown",
      "source": [
        "**Q8. When, if ever, can self be included in a class&#39;s method definitions?**"
      ],
      "metadata": {
        "id": "BubBqdYACv9e"
      }
    },
    {
      "cell_type": "markdown",
      "source": [
        "Invoking a method with the self keyword allows you to access all of the class and instance variables."
      ],
      "metadata": {
        "id": "HOYv0NPVC16t"
      }
    },
    {
      "cell_type": "markdown",
      "source": [
        "**Q9. What is the difference between the _ _add_ _ and the _ _radd_ _ methods?**"
      ],
      "metadata": {
        "id": "d1VFfhW3C42X"
      }
    },
    {
      "cell_type": "markdown",
      "source": [
        "The **__add__()** function is invoked internally whenever the + operator is used to add two values.\n",
        "\n",
        "Addition with reflected, swapped operands is implemented in Python with the **radd ()** method. To put it another way, Python looks for the method x. add when you type x + y."
      ],
      "metadata": {
        "id": "iamDMqm4DHYP"
      }
    },
    {
      "cell_type": "markdown",
      "source": [
        "**Q10. When is it necessary to use a reflection method? When do you not need it, even though you support the operation in question?**"
      ],
      "metadata": {
        "id": "MkylNTW0DWQP"
      }
    },
    {
      "cell_type": "markdown",
      "source": [
        "Let's pretend we're implementing a class that, by use of operator overloading, must behave like a number. That's why we've added support for __add__ to your class, making it possible to use expressions like obj + 10 without error. Specifically, obj + 10 is translated to obj. add (10), and the custom method __add__ can do whatever action that is appropriate for adding 10 to the custom class. A question arises, however, when considering expressions such as 10 + obj, which is (10). __add (myobj)? Since obj is a new type and 10 is an instance of a built-in type in Python, the __add__ function on 10 will fail with the NotImplemented exception. __radd__ is utilised in these kinds of situations. In the beginning, Python will (10). If __add (myobj) returns NotImplemented, Python will see if the right-hand operand supports __radd__, and if it does, it will execute obj. radd (10) instead of throwing a TypeError."
      ],
      "metadata": {
        "id": "ezAr3P6JDoi-"
      }
    },
    {
      "cell_type": "markdown",
      "source": [
        "**Q11. What is the _ _iadd_ _ method called?**"
      ],
      "metadata": {
        "id": "IQE1t_poDqUn"
      }
    },
    {
      "cell_type": "code",
      "source": [
        "class number:\n",
        "    def __init__(self,x):\n",
        "        self.x=x\n",
        "    def __iadd__(self,other):\n",
        "        self.x += other.x\n",
        "        return self.x\n",
        "\n",
        "object1_number = number(10)\n",
        "object2_number = number(20)\n",
        "object1_number += object2_number\n",
        "print(object1_number)"
      ],
      "metadata": {
        "colab": {
          "base_uri": "https://localhost:8080/"
        },
        "id": "pbf52pBJCbxo",
        "outputId": "0675f7a2-09f9-4eab-c4c6-9b30fbb72979"
      },
      "execution_count": 3,
      "outputs": [
        {
          "output_type": "stream",
          "name": "stdout",
          "text": [
            "30\n"
          ]
        }
      ]
    },
    {
      "cell_type": "markdown",
      "source": [
        "**Q12. Is the _ _init_ _ method inherited by subclasses? What do you do if you need to customize itsbehavior within a subclass?**"
      ],
      "metadata": {
        "id": "6-IIxPh2ECqn"
      }
    },
    {
      "cell_type": "code",
      "source": [
        "class Parent:\n",
        "    def __init__(self,x):\n",
        "        self.x=x\n",
        "\n",
        "class child1(Parent):\n",
        "    pass\n",
        "\n",
        "object_child1=child1(2)\n",
        "\n",
        "object_child1.x \n",
        "\n",
        "class child2(Parent):\n",
        "    def __init__(self,x,y):\n",
        "        self.x=x\n",
        "        self.y=y\n",
        "    def func(self):\n",
        "        return(self.x + self.y)\n",
        "\n",
        "object_child2=child2(10,20)\n",
        "object_child2.func()\n"
      ],
      "metadata": {
        "colab": {
          "base_uri": "https://localhost:8080/"
        },
        "id": "Wl6cT0xRDypq",
        "outputId": "3d6702eb-55de-4dc5-db20-845ba574f6df"
      },
      "execution_count": 9,
      "outputs": [
        {
          "output_type": "execute_result",
          "data": {
            "text/plain": [
              "30"
            ]
          },
          "metadata": {},
          "execution_count": 9
        }
      ]
    },
    {
      "cell_type": "code",
      "source": [],
      "metadata": {
        "id": "8Af9z7GBE8az"
      },
      "execution_count": null,
      "outputs": []
    }
  ]
}