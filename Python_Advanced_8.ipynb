{
  "nbformat": 4,
  "nbformat_minor": 0,
  "metadata": {
    "colab": {
      "provenance": []
    },
    "kernelspec": {
      "name": "python3",
      "display_name": "Python 3"
    },
    "language_info": {
      "name": "python"
    }
  },
  "cells": [
    {
      "cell_type": "markdown",
      "source": [
        "**Q1. What are the two latest user-defined exception constraints in Python 3.X?**"
      ],
      "metadata": {
        "id": "5ZEjK2Gh9rNC"
      }
    },
    {
      "cell_type": "markdown",
      "source": [
        "Two of the most recent user-defined exception constraints in Python 3.X are raise and assert."
      ],
      "metadata": {
        "id": "suuEXSdR9x5N"
      }
    },
    {
      "cell_type": "markdown",
      "source": [
        "Q2. How are class-based exceptions that have been raised matched to handlers?"
      ],
      "metadata": {
        "id": "PwP-vWQn92JQ"
      }
    },
    {
      "cell_type": "code",
      "execution_count": 3,
      "metadata": {
        "colab": {
          "base_uri": "https://localhost:8080/",
          "height": 235
        },
        "id": "vqg225Ah9cU-",
        "outputId": "99640185-2ec6-45e2-995a-5336ff4264bc"
      },
      "outputs": [
        {
          "name": "stdout",
          "output_type": "stream",
          "text": [
            "Enter grade:23\n"
          ]
        },
        {
          "output_type": "error",
          "ename": "admission_elibility",
          "evalue": "ignored",
          "traceback": [
            "\u001b[0;31m---------------------------------------------------------------------------\u001b[0m",
            "\u001b[0;31madmission_elibility\u001b[0m                       Traceback (most recent call last)",
            "\u001b[0;32m<ipython-input-3-28f892ad6e76>\u001b[0m in \u001b[0;36m<module>\u001b[0;34m\u001b[0m\n\u001b[1;32m      6\u001b[0m \u001b[0mgrade\u001b[0m \u001b[0;34m=\u001b[0m \u001b[0mint\u001b[0m\u001b[0;34m(\u001b[0m\u001b[0minput\u001b[0m\u001b[0;34m(\u001b[0m\u001b[0;34m'Enter grade:'\u001b[0m\u001b[0;34m)\u001b[0m\u001b[0;34m)\u001b[0m\u001b[0;34m\u001b[0m\u001b[0;34m\u001b[0m\u001b[0m\n\u001b[1;32m      7\u001b[0m \u001b[0;32mif\u001b[0m \u001b[0;34m(\u001b[0m\u001b[0mgrade\u001b[0m\u001b[0;34m<\u001b[0m\u001b[0;36m60\u001b[0m\u001b[0;34m)\u001b[0m\u001b[0;34m:\u001b[0m\u001b[0;34m\u001b[0m\u001b[0;34m\u001b[0m\u001b[0m\n\u001b[0;32m----> 8\u001b[0;31m   \u001b[0;32mraise\u001b[0m \u001b[0madmission_elibility\u001b[0m\u001b[0;34m(\u001b[0m\u001b[0;34m'Not eligible for admission'\u001b[0m\u001b[0;34m)\u001b[0m\u001b[0;34m\u001b[0m\u001b[0;34m\u001b[0m\u001b[0m\n\u001b[0m\u001b[1;32m      9\u001b[0m \u001b[0;34m\u001b[0m\u001b[0m\n",
            "\u001b[0;31madmission_elibility\u001b[0m: Not eligible for admission"
          ]
        }
      ],
      "source": [
        "class admission_elibility(Exception):\n",
        "  def __init__(self, message):\n",
        "    self.message = message\n",
        "     \n",
        "\n",
        "grade = int(input('Enter grade:'))\n",
        "if (grade<60):\n",
        "  raise admission_elibility('Not eligible for admission')\n",
        "  \n"
      ]
    },
    {
      "cell_type": "markdown",
      "source": [
        "**Q3. Describe two methods for attaching context information to exception artefacts**."
      ],
      "metadata": {
        "id": "ULsr2Ivc-y9L"
      }
    },
    {
      "cell_type": "markdown",
      "source": [
        "To provide more context for the logged data, LoggerAdapter's process() method does the heavy lifting. It takes the logging call's message and keyword inputs, modifies them, and then sends them back to the underlying logger.\n",
        "The exception() function can also be used; it logs a message to this logger at the ERROR severity level. The parameters are understood as being for debugging (). The log message has been updated to include the details of the exception."
      ],
      "metadata": {
        "id": "fC33RicKAFi2"
      }
    },
    {
      "cell_type": "markdown",
      "source": [
        "**Q4. Describe two methods for specifying the text of an exception object&#39;s error message.**"
      ],
      "metadata": {
        "id": "ir7kztJxAYjn"
      }
    },
    {
      "cell_type": "markdown",
      "source": [
        "You can set the text of an exception object's error message using either raise or assert. The raise statement is used to cause an explicit exception to be thrown if a given condition is not met. It's useful for throwing exceptions based on the reasoning and preferences of the programmer.\n",
        "\n",
        "There are a small set of assertions that every programmer hopes will always evaluate to True. The purpose of an assert statement is to meet such a need. If the value returned by the Boolean Condition is True, the statement's body of code will be executed. The Assertion Error exception is thrown if the result of an assert statement is false."
      ],
      "metadata": {
        "id": "X_HBaHWpAiKH"
      }
    },
    {
      "cell_type": "code",
      "source": [
        "number = 14\n",
        "result=0\n",
        "try:\n",
        "  divisor = int(input('Enter a divisor:'))\n",
        "  if divisor==0:\n",
        "    raise ZeroDivisionError('Invalid Divisor') \n",
        "    result=0\n",
        "  else:\n",
        "    result = number/divisor\n",
        "\n",
        "finally:\n",
        "  print(result)"
      ],
      "metadata": {
        "colab": {
          "base_uri": "https://localhost:8080/",
          "height": 269
        },
        "id": "VTcRUcdn-Ib7",
        "outputId": "c6b832b2-8bf7-4649-be05-d750cb18b538"
      },
      "execution_count": 4,
      "outputs": [
        {
          "output_type": "stream",
          "name": "stdout",
          "text": [
            "Enter a divisor:0\n",
            "0\n"
          ]
        },
        {
          "output_type": "error",
          "ename": "ZeroDivisionError",
          "evalue": "ignored",
          "traceback": [
            "\u001b[0;31m---------------------------------------------------------------------------\u001b[0m",
            "\u001b[0;31mZeroDivisionError\u001b[0m                         Traceback (most recent call last)",
            "\u001b[0;32m<ipython-input-4-46666c082a16>\u001b[0m in \u001b[0;36m<module>\u001b[0;34m\u001b[0m\n\u001b[1;32m      4\u001b[0m   \u001b[0mdivisor\u001b[0m \u001b[0;34m=\u001b[0m \u001b[0mint\u001b[0m\u001b[0;34m(\u001b[0m\u001b[0minput\u001b[0m\u001b[0;34m(\u001b[0m\u001b[0;34m'Enter a divisor:'\u001b[0m\u001b[0;34m)\u001b[0m\u001b[0;34m)\u001b[0m\u001b[0;34m\u001b[0m\u001b[0;34m\u001b[0m\u001b[0m\n\u001b[1;32m      5\u001b[0m   \u001b[0;32mif\u001b[0m \u001b[0mdivisor\u001b[0m\u001b[0;34m==\u001b[0m\u001b[0;36m0\u001b[0m\u001b[0;34m:\u001b[0m\u001b[0;34m\u001b[0m\u001b[0;34m\u001b[0m\u001b[0m\n\u001b[0;32m----> 6\u001b[0;31m     \u001b[0;32mraise\u001b[0m \u001b[0mZeroDivisionError\u001b[0m\u001b[0;34m(\u001b[0m\u001b[0;34m'Invalid Divisor'\u001b[0m\u001b[0;34m)\u001b[0m\u001b[0;34m\u001b[0m\u001b[0;34m\u001b[0m\u001b[0m\n\u001b[0m\u001b[1;32m      7\u001b[0m     \u001b[0mresult\u001b[0m\u001b[0;34m=\u001b[0m\u001b[0;36m0\u001b[0m\u001b[0;34m\u001b[0m\u001b[0;34m\u001b[0m\u001b[0m\n\u001b[1;32m      8\u001b[0m   \u001b[0;32melse\u001b[0m\u001b[0;34m:\u001b[0m\u001b[0;34m\u001b[0m\u001b[0;34m\u001b[0m\u001b[0m\n",
            "\u001b[0;31mZeroDivisionError\u001b[0m: Invalid Divisor"
          ]
        }
      ]
    },
    {
      "cell_type": "code",
      "source": [
        "number = 14\n",
        "result=0\n",
        "try:\n",
        "  divisor = int(input('Enter a divisor:'))\n",
        "  assert(divisor!=0)\n",
        "  result = number/divisor\n",
        "  \n",
        "\n",
        "finally:\n",
        "  print(result)"
      ],
      "metadata": {
        "colab": {
          "base_uri": "https://localhost:8080/",
          "height": 269
        },
        "id": "m1puPmV9Aqsp",
        "outputId": "ce00fb56-5b58-4141-a34c-0f31e6567278"
      },
      "execution_count": 8,
      "outputs": [
        {
          "output_type": "stream",
          "name": "stdout",
          "text": [
            "Enter a divisor:0\n",
            "0\n"
          ]
        },
        {
          "output_type": "error",
          "ename": "AssertionError",
          "evalue": "ignored",
          "traceback": [
            "\u001b[0;31m---------------------------------------------------------------------------\u001b[0m",
            "\u001b[0;31mAssertionError\u001b[0m                            Traceback (most recent call last)",
            "\u001b[0;32m<ipython-input-8-c40ad05372ef>\u001b[0m in \u001b[0;36m<module>\u001b[0;34m\u001b[0m\n\u001b[1;32m      3\u001b[0m \u001b[0;32mtry\u001b[0m\u001b[0;34m:\u001b[0m\u001b[0;34m\u001b[0m\u001b[0;34m\u001b[0m\u001b[0m\n\u001b[1;32m      4\u001b[0m   \u001b[0mdivisor\u001b[0m \u001b[0;34m=\u001b[0m \u001b[0mint\u001b[0m\u001b[0;34m(\u001b[0m\u001b[0minput\u001b[0m\u001b[0;34m(\u001b[0m\u001b[0;34m'Enter a divisor:'\u001b[0m\u001b[0;34m)\u001b[0m\u001b[0;34m)\u001b[0m\u001b[0;34m\u001b[0m\u001b[0;34m\u001b[0m\u001b[0m\n\u001b[0;32m----> 5\u001b[0;31m   \u001b[0;32massert\u001b[0m\u001b[0;34m(\u001b[0m\u001b[0mdivisor\u001b[0m\u001b[0;34m!=\u001b[0m\u001b[0;36m0\u001b[0m\u001b[0;34m)\u001b[0m\u001b[0;34m\u001b[0m\u001b[0;34m\u001b[0m\u001b[0m\n\u001b[0m\u001b[1;32m      6\u001b[0m   \u001b[0mresult\u001b[0m \u001b[0;34m=\u001b[0m \u001b[0mnumber\u001b[0m\u001b[0;34m/\u001b[0m\u001b[0mdivisor\u001b[0m\u001b[0;34m\u001b[0m\u001b[0;34m\u001b[0m\u001b[0m\n\u001b[1;32m      7\u001b[0m \u001b[0;34m\u001b[0m\u001b[0m\n",
            "\u001b[0;31mAssertionError\u001b[0m: "
          ]
        }
      ]
    },
    {
      "cell_type": "markdown",
      "source": [
        "**Q5. Why do you no longer use string-based exceptions?**"
      ],
      "metadata": {
        "id": "2PqW4GuzA7e1"
      }
    },
    {
      "cell_type": "markdown",
      "source": [
        "Unlike Exceptions, StringBasedExceptions does not have any ancestors. This means that ordinary exceptions will capture any exception, not only system exceptions."
      ],
      "metadata": {
        "id": "S0Y69Oy_BFR2"
      }
    },
    {
      "cell_type": "code",
      "source": [],
      "metadata": {
        "id": "sSmvVwtAAtt4"
      },
      "execution_count": null,
      "outputs": []
    }
  ]
}