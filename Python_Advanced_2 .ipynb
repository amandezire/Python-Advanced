{
  "nbformat": 4,
  "nbformat_minor": 0,
  "metadata": {
    "colab": {
      "provenance": []
    },
    "kernelspec": {
      "name": "python3",
      "display_name": "Python 3"
    },
    "language_info": {
      "name": "python"
    }
  },
  "cells": [
    {
      "cell_type": "markdown",
      "source": [
        "**Q1. What is the relationship between classes and modules?**"
      ],
      "metadata": {
        "id": "7aOEEHuatS2h"
      }
    },
    {
      "cell_type": "markdown",
      "source": [
        "**Class:**\n",
        "\n",
        "\n",
        "\n",
        "1. Class is analogous to a function Object() { [native code] } for objects or a \"blueprint\" for making new ones.\n",
        "\n",
        "2. Class may have instances.\n",
        "3. Class stability is maintained (by keeping track of instance variables)\n",
        "4. A class may have as many copies as you like by making objects of it (instances)\n",
        "\n",
        "**Module:**\n",
        "\n",
        "\n",
        "\n",
        "1.   A module is a file that contains Python code, such as statements and definitions.\n",
        "2. Simply add the.py extension to the module's name to get the file name.\n",
        "3. Within a module, the value of the global variable __name__ is the module's name as a string.\n",
        "4. Importing modules is an option.\n",
        "5. nstance methods may inherit from or build upon module methods."
      ],
      "metadata": {
        "id": "8UKlYwajtkXi"
      }
    },
    {
      "cell_type": "markdown",
      "source": [
        "**Q2. How do you make instances and classes?**"
      ],
      "metadata": {
        "id": "noEftH3dtVCP"
      }
    },
    {
      "cell_type": "code",
      "source": [
        "class parent:\n",
        "  variable_parent = 10\n",
        "  def __init__(self,number):\n",
        "    self.variable_parent = number\n",
        "\n",
        "  def function1(self):\n",
        "    print(self.variable_parent)\n",
        "\n",
        "\n",
        "class child(parent):# Inheritance\n",
        "  variable_child = 12\n",
        "  def __init__(self,number):\n",
        "    self.variable_child = number\n",
        "\n",
        "  def function2(self):\n",
        "    print(self.variable_child)\n",
        "\n",
        "\n",
        "obj = child(20)# Class Instance\n",
        "obj.function2()\n",
        "obj.function1()\n",
        "\n"
      ],
      "metadata": {
        "colab": {
          "base_uri": "https://localhost:8080/"
        },
        "id": "n98cDviXuXns",
        "outputId": "96fd5810-d910-4774-c572-aad9f5717cff"
      },
      "execution_count": 17,
      "outputs": [
        {
          "output_type": "stream",
          "name": "stdout",
          "text": [
            "20\n",
            "10\n"
          ]
        }
      ]
    },
    {
      "cell_type": "markdown",
      "source": [
        "**Q3. Where and how should be class attributes created?**"
      ],
      "metadata": {
        "id": "rrIPC2V6tU8r"
      }
    },
    {
      "cell_type": "markdown",
      "source": [
        "An easy-to-understand Python class with only two properties is shown below in the form of ExampleClass: class attr"
      ],
      "metadata": {
        "id": "i1Sj0fPatU6H"
      }
    },
    {
      "cell_type": "markdown",
      "source": [
        "**Q4. Where and how are instance attributes created?**"
      ],
      "metadata": {
        "id": "9ONfQuRRtU3a"
      }
    },
    {
      "cell_type": "markdown",
      "source": [
        "An instance attribute in Python is a variable that can only be accessed from one specific object. This variable is declared inside the class's init(self,..) function Object() { [native code] } and has a limited scope within this object."
      ],
      "metadata": {
        "id": "oQzKknpOtU06"
      }
    },
    {
      "cell_type": "markdown",
      "source": [
        "**Q5. What does the term &quot;self&quot; in a Python class mean?**"
      ],
      "metadata": {
        "id": "Xc-pa5aCtUyM"
      }
    },
    {
      "cell_type": "markdown",
      "source": [
        "The class instance is denoted by the self variable. Accessing the class's properties and methods in Python is as simple as using the \"self\" keyword. It connects the specified properties to the input values."
      ],
      "metadata": {
        "id": "hPWdfABptUvu"
      }
    },
    {
      "cell_type": "markdown",
      "source": [
        "**Q6. How does a Python class handle operator overloading?**"
      ],
      "metadata": {
        "id": "RFY0o93CtUtA"
      }
    },
    {
      "cell_type": "markdown",
      "source": [
        "Operator overloading is accomplished by defining a specialised method inside a class declaration. There should be two underscore  signs (__) in the method name, one at the beginning and one at the conclusion. Specifically, the + operator is overridden by a function called add(). The int and str classes both use this approach.\n",
        "\n",
        "The following are a few examples of Python's \"magic functions\" that make use of operator overloading:\n",
        "\n",
        "\n",
        "\n",
        "* '+' __add (self, other)\n",
        "* '-' __sub (self, other) \n",
        "* '*' __mul (self, other) \n",
        "* '/' __truediv (self, other) \n",
        "* '%' __mod (self, other)"
      ],
      "metadata": {
        "id": "R7_sdy4QtUqW"
      }
    },
    {
      "cell_type": "markdown",
      "source": [
        "**Q7. When do you consider allowing operator overloading of your classes?**"
      ],
      "metadata": {
        "id": "T778HA_ytUif"
      }
    },
    {
      "cell_type": "markdown",
      "source": [
        "If we try to add two objects, each of which is a physical representation of a class (user-defined data type), using the binary \"+\" operator, the compiler will likely give an error. Operator overloading describes the procedure through which a new method is defined for an existing operator. The + operator may now be used to do more than just add a pair of integers together; it can now combine lists or string together."
      ],
      "metadata": {
        "id": "SdrmKqfPtUFF"
      }
    },
    {
      "cell_type": "markdown",
      "source": [
        "**Q8. What is the most popular form of operator overloading?**"
      ],
      "metadata": {
        "id": "sX2uHDmWtgpt"
      }
    },
    {
      "cell_type": "markdown",
      "source": [
        "The plus sign (plus) operator is the most often used overloading operator. Invoking the + operator automatically calls the enchanted method add, where the + operator's action is specified. By modifying the coding of this mystical procedure, we may provide the plus sign with new significance. All operators in Python may be used on the standard types. However, the same operator exhibits varying results when applied to several kinds. The plus (+) operator may be used to do arithmetic addition on two integers, combine two lists, or concatenate two strings."
      ],
      "metadata": {
        "id": "vn1FwA-Ztghs"
      }
    },
    {
      "cell_type": "markdown",
      "source": [
        "**Q9. What are the two most important concepts to grasp in order to comprehend Python OOP code?**"
      ],
      "metadata": {
        "id": "6SOWQLcAtgYS"
      }
    },
    {
      "cell_type": "markdown",
      "source": [
        "Understanding classes and objects is crucial to reading and writing python oop code. where classes serve as containers for ideas and their definitions, and objects are actual real-world occurrences of those classes."
      ],
      "metadata": {
        "id": "ZzFm3pCixycQ"
      }
    },
    {
      "cell_type": "code",
      "execution_count": null,
      "metadata": {
        "id": "XTd1DjH6s8yT"
      },
      "outputs": [],
      "source": []
    }
  ]
}