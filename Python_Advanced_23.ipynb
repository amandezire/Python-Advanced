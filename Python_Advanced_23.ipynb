{
  "nbformat": 4,
  "nbformat_minor": 0,
  "metadata": {
    "colab": {
      "provenance": []
    },
    "kernelspec": {
      "name": "python3",
      "display_name": "Python 3"
    },
    "language_info": {
      "name": "python"
    }
  },
  "cells": [
    {
      "cell_type": "markdown",
      "source": [
        "**Q1. If you have any, what are your choices for increasing the comparison between different figures on the same graph?**"
      ],
      "metadata": {
        "id": "7-HX97SjSfnw"
      }
    },
    {
      "cell_type": "markdown",
      "source": [
        "Matplotlib's subplots feature is a handy tool for comparing multiple data sets side-by-side on a single graph. Subplots are essentially a collection of smaller plots (where each plot forms its own axis) that can coexist in the same diagram."
      ],
      "metadata": {
        "id": "MuJ69jjRSvL_"
      }
    },
    {
      "cell_type": "markdown",
      "source": [
        "**Q2. Can you explain the benefit of compound interest over a higher rate of interest that does not compound after reading this chapter?**"
      ],
      "metadata": {
        "id": "MA9896T0Sw78"
      }
    },
    {
      "cell_type": "markdown",
      "source": [
        "Because at the conclusion of each compounding period, which could be daily, monthly, quarterly, or annually, you earn returns on returns on returns, a sum of money grows at a quicker rate with compound interest than with simple interest."
      ],
      "metadata": {
        "id": "7g_WxDC-S5Ms"
      }
    },
    {
      "cell_type": "markdown",
      "source": [
        "**Q3. What is a histogram, exactly? Name a numpy method for creating such a graph.**"
      ],
      "metadata": {
        "id": "n7mXyLOOS8K_"
      }
    },
    {
      "cell_type": "markdown",
      "source": [
        "The histogram displays the sum of X values relative to Y. It means that the Y value at any given place on X is the sum of all counts or data below that X value. The built-in function numpy.histogram() is invoked."
      ],
      "metadata": {
        "id": "QexPrHLQTCgg"
      }
    },
    {
      "cell_type": "markdown",
      "source": [
        "**Q4. If necessary, how do you change the aspect ratios between the X and Y axes?**"
      ],
      "metadata": {
        "id": "KVLA6tq_TFhi"
      }
    },
    {
      "cell_type": "markdown",
      "source": [
        "The figure(figsize=(10,10)) method in the matplot.pyplot package can be used to shrink or enlarge the graph."
      ],
      "metadata": {
        "id": "eqK72vyGTg4F"
      }
    },
    {
      "cell_type": "markdown",
      "source": [
        "**Q5. Compare and contrast the three types of array multiplication between two numpy arrays: dot product, outer product, and regular multiplication of two numpy arrays.**"
      ],
      "metadata": {
        "id": "TBryHm3YTjT6"
      }
    },
    {
      "cell_type": "code",
      "execution_count": 2,
      "metadata": {
        "id": "ZZn5Bse6Sb5A"
      },
      "outputs": [],
      "source": [
        "import numpy as np\n",
        "array_1 = np.array([[1,2,3],[4,5,6],[6,7,8]])\n",
        "array_2 = np.array([[10,20,30],[40,50,60],[60,70,80]])"
      ]
    },
    {
      "cell_type": "code",
      "source": [
        "array_1 * array_2"
      ],
      "metadata": {
        "colab": {
          "base_uri": "https://localhost:8080/"
        },
        "id": "dDA2ER5DTyYo",
        "outputId": "3919dc11-b6be-42ea-a5e3-28f4cc45558c"
      },
      "execution_count": 3,
      "outputs": [
        {
          "output_type": "execute_result",
          "data": {
            "text/plain": [
              "array([[ 10,  40,  90],\n",
              "       [160, 250, 360],\n",
              "       [360, 490, 640]])"
            ]
          },
          "metadata": {},
          "execution_count": 3
        }
      ]
    },
    {
      "cell_type": "code",
      "source": [
        "np.dot(array_1, array_2)"
      ],
      "metadata": {
        "colab": {
          "base_uri": "https://localhost:8080/"
        },
        "id": "tWyE8z9pT06u",
        "outputId": "33118b6c-b507-4407-d0f2-deceafecb821"
      },
      "execution_count": 4,
      "outputs": [
        {
          "output_type": "execute_result",
          "data": {
            "text/plain": [
              "array([[ 270,  330,  390],\n",
              "       [ 600,  750,  900],\n",
              "       [ 820, 1030, 1240]])"
            ]
          },
          "metadata": {},
          "execution_count": 4
        }
      ]
    },
    {
      "cell_type": "code",
      "source": [
        "np.outer(array_1, array_2)"
      ],
      "metadata": {
        "colab": {
          "base_uri": "https://localhost:8080/"
        },
        "id": "BUM-YEEwT2PR",
        "outputId": "5d526d7e-b244-4d17-b616-0032adc5381c"
      },
      "execution_count": 5,
      "outputs": [
        {
          "output_type": "execute_result",
          "data": {
            "text/plain": [
              "array([[ 10,  20,  30,  40,  50,  60,  60,  70,  80],\n",
              "       [ 20,  40,  60,  80, 100, 120, 120, 140, 160],\n",
              "       [ 30,  60,  90, 120, 150, 180, 180, 210, 240],\n",
              "       [ 40,  80, 120, 160, 200, 240, 240, 280, 320],\n",
              "       [ 50, 100, 150, 200, 250, 300, 300, 350, 400],\n",
              "       [ 60, 120, 180, 240, 300, 360, 360, 420, 480],\n",
              "       [ 60, 120, 180, 240, 300, 360, 360, 420, 480],\n",
              "       [ 70, 140, 210, 280, 350, 420, 420, 490, 560],\n",
              "       [ 80, 160, 240, 320, 400, 480, 480, 560, 640]])"
            ]
          },
          "metadata": {},
          "execution_count": 5
        }
      ]
    },
    {
      "cell_type": "markdown",
      "source": [
        "**Q6. Before you buy a home, which numpy function will you use to measure your monthly mortgage payment?**"
      ],
      "metadata": {
        "id": "Sy5NdbFEUUec"
      }
    },
    {
      "cell_type": "markdown",
      "source": [
        "**np.pmt(rate, nper, pv)** function we will be using in order to calculate monthly mortgage payment before you purchase a house.\n",
        "\n",
        "1. rate = The periodic interest rate\n",
        "2. nper = The number of payment periods\n",
        "3. pv = The total value of the mortgage loan"
      ],
      "metadata": {
        "id": "xYy0N7zqUdhl"
      }
    },
    {
      "cell_type": "markdown",
      "source": [
        "**Q7. Can string data be stored in numpy arrays? If so, list at least one restriction that applies to this data.**"
      ],
      "metadata": {
        "id": "kkmGBwPyUlZ5"
      }
    },
    {
      "cell_type": "markdown",
      "source": [
        "The string can be stored in an array. The maximum allowable string length is a restriction on the data type string, so this value must be taken into account whenever string data is stored."
      ],
      "metadata": {
        "id": "3pksr0tMUtSM"
      }
    },
    {
      "cell_type": "code",
      "source": [],
      "metadata": {
        "id": "KbGrL-n_UKEP"
      },
      "execution_count": null,
      "outputs": []
    }
  ]
}