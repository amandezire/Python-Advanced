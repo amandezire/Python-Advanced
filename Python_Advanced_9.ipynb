{
  "nbformat": 4,
  "nbformat_minor": 0,
  "metadata": {
    "colab": {
      "provenance": []
    },
    "kernelspec": {
      "name": "python3",
      "display_name": "Python 3"
    },
    "language_info": {
      "name": "python"
    }
  },
  "cells": [
    {
      "cell_type": "markdown",
      "source": [
        "**Q1. In Python 3.X, what are the names and functions of string object types?**"
      ],
      "metadata": {
        "id": "AA0WLfrC_zhQ"
      }
    },
    {
      "cell_type": "markdown",
      "source": [
        "1.   lower(): Converts all uppercase characters in a string into lowercase\n",
        "2. upper(): Converts all lowercase characters in a string into uppercase\n",
        "3. title(): Convert string to title case\n",
        "4. capitalize()\tConverts the first character of the string to a capital (uppercase) letter\n",
        "5. casefold()\tImp2.lements caseless string matching\n",
        "6. center()\tPad the string with the specified character.\n",
        "7. count()\tReturns the number of occurrences of a substring in the string.\n",
        "8. encode()\tEncodes strings with the specified encoded scheme\n",
        "9. endswith()\tReturns “True” if a string ends with the given suffix\n",
        "10. expandtabs()\tSpecifies the amount of space to be substituted with the “\\t” symbol in the string\n",
        "11. find()\tReturns the lowest index of the substring if it is found\n",
        "12. format()\tFormats the string for printing it to console\n",
        "13. format_map()\tFormats specified values in a string using a dictionary\n",
        "14. index()\tReturns the position of the first occurrence of a substring in a string\n",
        "15. isalnum()\tChecks whether all the characters in a given string is alphanumeric or not\n",
        "16. isalpha()\tReturns “True” if all characters in the string are alphabets\n",
        "17. isdecimal()\tReturns true if all characters in a string are decimal\n",
        "18. isdigit()\tReturns “True” if all characters in the string are digits\n",
        "19. isidentifier()\tCheck whether a string is a valid identifier or not\n",
        "20. islower()\tChecks if all characters in the string are lowercase\n",
        "21. isnumeric()\tReturns “True” if all characters in the string are numeric characters\n",
        "22. isprintable()\tReturns “True” if all characters in the string are printable or the string is empty\n",
        "23. isspace()\tReturns “True” if all characters in the string are whitespace characters\n",
        "24. istitle()\tReturns “True” if the string is a title cased string\n",
        "25. isupper()\tChecks if all characters in the string are uppercase\n",
        "26. join()\tReturns a concatenated String\n",
        "27. ljust()\tLeft aligns the string according to the width specified\n",
        "28. lower()\tConverts all uppercase characters in a string into lowercase\n",
        "29. lstrip()\tReturns the string with leading characters removed\n",
        "30. maketrans()\t Returns a translation table\n",
        "31. partition()\tSplits the string at the first occurrence of the separator \n",
        "32. replace()\tReplaces all occurrences of a substring with another substring\n",
        "33. rfind()\tReturns the highest index of the substring\n",
        "34. rindex()\tReturns the highest index of the substring inside the string\n",
        "35. rjust()\tRight aligns the string according to the width specified\n",
        "36. rpartition()\tSplit the given string into three parts\n",
        "37. rsplit()\tSplit the string from the right by the specified separator\n",
        "38. rstrip()\tRemoves trailing characters\n",
        "39. splitlines()\tSplit the lines at line boundaries\n",
        "40. startswith()\tReturns “True” if a string starts with the given prefix\n",
        "41. strip()\tReturns the string with both leading and trailing characters\n",
        "42. swapcase()\tConverts all uppercase characters to lowercase and vice versa\n",
        "43. title()\tConvert string to title case\n",
        "44. translate()\tModify string according to given translation mappings\n",
        "45. upper()\tConverts all lowercase characters in a string into uppercase\n",
        "46. zfill()\tReturns a copy of the string with ‘0’ characters padded to the left side of the string"
      ],
      "metadata": {
        "id": "lixhhXdKAJF0"
      }
    },
    {
      "cell_type": "markdown",
      "source": [
        "**Q2. How do the string forms in Python 3.X vary in terms of operations?**"
      ],
      "metadata": {
        "id": "DgujLVMYAzgV"
      }
    },
    {
      "cell_type": "markdown",
      "source": [
        "Unicode is the defacto standard for storing strings in Python 3. In Pyton2, however, the Unicode value must be mentioned directly using the u character."
      ],
      "metadata": {
        "id": "jOGsHR4jBDJd"
      }
    },
    {
      "cell_type": "markdown",
      "source": [
        "**Q3. In 3.X, how do you put non-ASCII Unicode characters in a string?**"
      ],
      "metadata": {
        "id": "C0_3igapBHKo"
      }
    },
    {
      "cell_type": "markdown",
      "source": [
        "When working with Python 3.x, the unidecode() method from the unidecode library can be used to insert non-ASCII Unicode Characters into a string."
      ],
      "metadata": {
        "id": "MDcao-HEBTkR"
      }
    },
    {
      "cell_type": "code",
      "source": [
        "!pip install unidecode"
      ],
      "metadata": {
        "colab": {
          "base_uri": "https://localhost:8080/"
        },
        "id": "8wfkowrHBa58",
        "outputId": "b54fc7ea-0cf2-438b-9642-5acea0ac6ee2"
      },
      "execution_count": 4,
      "outputs": [
        {
          "output_type": "stream",
          "name": "stdout",
          "text": [
            "Looking in indexes: https://pypi.org/simple, https://us-python.pkg.dev/colab-wheels/public/simple/\n",
            "Collecting unidecode\n",
            "  Downloading Unidecode-1.3.6-py3-none-any.whl (235 kB)\n",
            "\u001b[K     |████████████████████████████████| 235 kB 7.8 MB/s \n",
            "\u001b[?25hInstalling collected packages: unidecode\n",
            "Successfully installed unidecode-1.3.6\n"
          ]
        }
      ]
    },
    {
      "cell_type": "code",
      "execution_count": 6,
      "metadata": {
        "colab": {
          "base_uri": "https://localhost:8080/"
        },
        "id": "8yYWzfX8_peU",
        "outputId": "aef478a7-c0c9-4f2a-f583-6591e0381653"
      },
      "outputs": [
        {
          "output_type": "stream",
          "name": "stdout",
          "text": [
            "yh ek mshiin lrniNg str hai / \n",
            "ih iHk ms'iin lrniNg sais'n hai / \n",
            "hdhh jls@ t`lm aly.\n",
            "korehaJi Jie Xue Xi setsushiyondesu. \n",
            "Is seisiun foghlama meaisin e seo.\n"
          ]
        }
      ],
      "source": [
        "from unidecode import unidecode\n",
        "print(unidecode(u'यह एक मशीन लर्निंग सत्र है।'))\n",
        "print(unidecode(\"ਇਹ ਇੱਕ ਮਸ਼ੀਨ ਲਰਨਿੰਗ ਸੈਸ਼ਨ ਹੈ।\"))\n",
        "print(unidecode(\"هذه جلسة تعلم آلي.\"))\n",
        "print(unidecode(\"これは機械学習セッションです。\"))\n",
        "print(unidecode(\"Is seisiún foghlama meaisín é seo.\"))"
      ]
    },
    {
      "cell_type": "markdown",
      "source": [
        "**Q4. In Python 3.X, what are the key differences between text-mode and binary-mode files?**"
      ],
      "metadata": {
        "id": "CpJAMg9rCLCS"
      }
    },
    {
      "cell_type": "markdown",
      "source": [
        "The key distinction is that a text file only contains alphanumeric and special character or symbol data, while an image file contains both numeric and character data. Alternatively, a binary file is made up entirely of bytes or a compiled form of a text file.When a text file is opened, its contents are automatically decoded (using the platform's default or the provided encoding) and returned as a str; similarly, when a text file is written, a str is taken as input and automatically encoded before being written to the file. In addition, encoding specification parameters and universal end-of-line translation are both supported by text mode files.\n",
        "\n",
        "If the open() method is invoked on a file with the mode string argument set to b, the file will be read without decoding the data and the result will be a bytes object containing the raw data. Bytearray objects can also be used to write content to binary-mode files."
      ],
      "metadata": {
        "id": "9KyyT11-CTrq"
      }
    },
    {
      "cell_type": "markdown",
      "source": [
        "**Q5. How can you interpret a Unicode text file containing text encoded in a different encoding than your platform&#39;s default?**"
      ],
      "metadata": {
        "id": "fp6Rp6C8CYuK"
      }
    },
    {
      "cell_type": "markdown",
      "source": [
        "Unicode text files may contain text encoded in encodings other than your platform's default (UTF-8), but the encode() and decode() methods can be used to read and interpret such files."
      ],
      "metadata": {
        "id": "eNN154uyCj5J"
      }
    },
    {
      "cell_type": "markdown",
      "source": [
        "**Q6. What is the best way to make a Unicode text file in a particular encoding format?**"
      ],
      "metadata": {
        "id": "3OVV2Uz9Cm8H"
      }
    },
    {
      "cell_type": "markdown",
      "source": [
        "Make use of the file extension and the str.encode() method. Using write(), you can create a text file containing Unicode characters in a specific encoding; UTF-18 is the default.\n",
        "\n",
        "\n",
        "\n",
        "*   Call str.encode(encoding) with encoding set to utf8 to encode str.\n",
        "*   Call open(file, mode) to open a file with mode set to wb . wb writes to files in binary mode & preserves UTF-8format.\n",
        "*   Call file.write(data) to write data to the file.\n",
        "\n",
        "\n",
        "\n",
        "\n",
        "\n",
        "\n",
        "\n"
      ],
      "metadata": {
        "id": "Nep2Pa4tCwRg"
      }
    },
    {
      "cell_type": "markdown",
      "source": [
        "**Q7. What qualifies ASCII text as a form of Unicode text?**"
      ],
      "metadata": {
        "id": "soup-cj7DGVx"
      }
    },
    {
      "cell_type": "markdown",
      "source": [
        "Unicode encompasses the vast majority of the world's written languages. Unicode provides an equivalent to ASCII. Unicode represents a wider range of characters than ASCII, including letters of English, Arabic, Greek, etc., mathematical symbols, ancient scripts, and emoji. ASCII represents lowercase letters (a-z), uppercase letters (A-Z), numerals (0-9), and symbols such punctuation marks."
      ],
      "metadata": {
        "id": "E5IFKEZSDPho"
      }
    },
    {
      "cell_type": "markdown",
      "source": [
        "**Q8. How much of an effect does the change in string types in Python 3.X have on your code?**"
      ],
      "metadata": {
        "id": "WbA8CSoUDSdM"
      }
    },
    {
      "cell_type": "markdown",
      "source": [
        "In Python 3, strings are stored as Unicode automatically, but in Python 2, you had to explicitly indicate a string as Unicode by prefixing it with a u. Unicode strings are the default in Python 3.X, and they have the advantage of being able to store not only emoji and the normal Roman letters and digits but also letters from other languages."
      ],
      "metadata": {
        "id": "cXE9NClNDbXG"
      }
    },
    {
      "cell_type": "code",
      "source": [],
      "metadata": {
        "id": "fOk0MlVXBZPX"
      },
      "execution_count": null,
      "outputs": []
    }
  ]
}